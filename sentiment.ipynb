{
 "cells": [
  {
   "cell_type": "markdown",
   "metadata": {
    "_cell_guid": "88051c3d-4a44-4ec6-8adb-c1d38653e94d",
    "_uuid": "71fff663eb9075c63db6ddd0904379ffbcdcad20"
   },
   "source": [
    "# Machine Learning Challenge\n",
    "\n",
    "## Overview\n",
    "\n",
    "The focus of this exercise is on a field within machine learning called [Natural Language Processing](https://en.wikipedia.org/wiki/Natural-language_processing). We can think of this field as the intersection between language, and machine learning. Tasks in this field include automatic translation (Google translate), intelligent personal assistants (Siri), information extraction, and speech recognition for example.\n",
    "\n",
    "NLP uses many of the same techniques as traditional data science, but also features a number of specialised skills and approaches. There is no expectation that you have any experience with NLP, however, to complete the challenge it will be useful to have the following skills:\n",
    "\n",
    "- understanding of the python programming language\n",
    "- understanding of basic machine learning concepts, i.e. supervised learning\n",
    "\n",
    "\n",
    "### Instructions\n",
    "\n",
    "1. Download this notebook!\n",
    "2. Answer each of the provided questions, including your source code as cells in this notebook.\n",
    "3. Share the results with us, e.g. a Github repo.\n",
    "\n",
    "### Task description\n",
    "\n",
    "You will be performing a task known as [sentiment analysis](https://en.wikipedia.org/wiki/Sentiment_analysis). Here, the goal is to predict sentiment -- the emotional intent behind a statement -- from text. For example, the sentence: \"*This movie was terrible!\"* has a negative sentiment, whereas \"*loved this cinematic masterpiece*\" has a positive sentiment.\n",
    "\n",
    "To simplify the task, we consider sentiment binary: labels of `1` indicate a sentence has a positive sentiment, and labels of `0` indicate that the sentence has a negative sentiment.\n",
    "\n",
    "### Dataset\n",
    "\n",
    "The dataset is split across three files, representing three different sources -- Amazon, Yelp and IMDB. Your task is to build a sentiment analysis model using both the Yelp and IMDB data as your training-set, and test the performance of your model on the Amazon data.\n",
    "\n",
    "Each file can be found in the `input` directory, and contains 1000 rows of data. Each row contains a sentence, a `tab` character and then a label -- `0` or `1`. \n",
    "\n",
    "**Notes**\n",
    "- Feel free to use existing machine learning libraries as components in you solution!\n",
    "- Suggested libraries: `sklearn` (for machine learning), `pandas` (for loading/processing data), `spacy` (for text processing).\n",
    "- As mentioned, you are not expected to have previous experience with this exact task. You are free to refer to external tutorials/resources to assist you. However, you will be asked to justfify the choices you have made -- so make you understand the approach you have taken."
   ]
  },
  {
   "cell_type": "code",
   "execution_count": 1,
   "metadata": {
    "_cell_guid": "b1076dfc-b9ad-4769-8c92-a6c4dae69d19",
    "_uuid": "8f2839f25d086af736a60e9eeb907d3b93b6e0e5"
   },
   "outputs": [
    {
     "name": "stdout",
     "output_type": "stream",
     "text": [
      "['amazon_cells_labelled.txt', 'yelp_labelled.txt', 'imdb_labelled.txt']\n"
     ]
    }
   ],
   "source": [
    "import os\n",
    "print(os.listdir(\"./input\"))"
   ]
  },
  {
   "cell_type": "code",
   "execution_count": 2,
   "metadata": {
    "_cell_guid": "79c7e3d0-c299-4dcb-8224-4455121ee9b0",
    "_uuid": "d629ff2d2480ee46fbb7e2d37f6b5fab8052498a",
    "scrolled": true
   },
   "outputs": [
    {
     "name": "stdout",
     "output_type": "stream",
     "text": [
      "So there is no way for me to plug it in here in the US unless I go by a converter.\t0\r\n",
      "Good case, Excellent value.\t1\r\n",
      "Great for the jawbone.\t1\r\n",
      "Tied to charger for conversations lasting more than 45 minutes.MAJOR PROBLEMS!!\t0\r\n",
      "The mic is great.\t1\r\n",
      "I have to jiggle the plug to get it to line up right to get decent volume.\t0\r\n",
      "If you have several dozen or several hundred contacts, then imagine the fun of sending each of them one by one.\t0\r\n",
      "If you are Razr owner...you must have this!\t1\r\n",
      "Needless to say, I wasted my money.\t0\r\n",
      "What a waste of money and time!.\t0\r\n"
     ]
    }
   ],
   "source": [
    "!head \"./input/amazon_cells_labelled.txt\""
   ]
  },
  {
   "cell_type": "markdown",
   "metadata": {
    "_cell_guid": "387106cd-e89a-462f-b204-a91a73d12137",
    "_uuid": "cbd1a4b1d16ce7db6def7b3b393b48618d7e4777"
   },
   "source": [
    "# Tasks\n",
    "### 1. Read and concatenate data into test and train sets.\n",
    "### 2. Prepare the data for input into your model."
   ]
  },
  {
   "cell_type": "markdown",
   "metadata": {},
   "source": [
    "**install libraries**\n",
    "\n",
    "```shell\n",
    "!pip install spacy\n",
    "!python -m spacy download en_core_web_sm\n",
    "!python -m spacy download en_core_web_lg\n",
    "!pip install nltk\n",
    "!pip install sklearn\n",
    "!pip install seaborn\n",
    "```\n",
    "\n",
    "**download required data**\n",
    "\n",
    "```python\n",
    "import nltk\n",
    "nltk.download('stopwords')\n",
    "```"
   ]
  },
  {
   "cell_type": "code",
   "execution_count": 3,
   "metadata": {},
   "outputs": [],
   "source": [
    "import json\n",
    "import spacy\n",
    "from spacy.tokens.token import Token\n",
    "from nltk import ngrams\n",
    "from dataclasses import dataclass\n",
    "from typing import List, Dict, Union"
   ]
  },
  {
   "cell_type": "code",
   "execution_count": 4,
   "metadata": {},
   "outputs": [],
   "source": [
    "nlp = spacy.load(\"en_core_web_lg\")"
   ]
  },
  {
   "cell_type": "code",
   "execution_count": 5,
   "metadata": {},
   "outputs": [],
   "source": [
    "@dataclass\n",
    "class Sentence:\n",
    "    sentence: str\n",
    "    label: int\n",
    "    tokens: List[Token]"
   ]
  },
  {
   "cell_type": "code",
   "execution_count": 6,
   "metadata": {},
   "outputs": [],
   "source": [
    "def parse_line(line: str):\n",
    "    sentence, label = line.strip().split('\\t')\n",
    "    label = int(label)\n",
    "    tokens = nlp(sentence)\n",
    "    return Sentence(sentence, label, tokens)\n",
    "\n",
    "\n",
    "def load_sentiment_data(*files: str):\n",
    "    data = (\n",
    "        parse_line(line)\n",
    "        for f in files \n",
    "        for line in open(f, 'r')\n",
    "    )\n",
    "    return data"
   ]
  },
  {
   "cell_type": "markdown",
   "metadata": {},
   "source": [
    "**Load train set and test set, for only 1000 records in each file, just load to memory**"
   ]
  },
  {
   "cell_type": "code",
   "execution_count": 7,
   "metadata": {},
   "outputs": [],
   "source": [
    "train_set = list(load_sentiment_data('input/imdb_labelled.txt', 'input/yelp_labelled.txt'))\n",
    "test_set = list(load_sentiment_data('input/amazon_cells_labelled.txt'))"
   ]
  },
  {
   "cell_type": "markdown",
   "metadata": {},
   "source": [
    "*To get all tag of spacy*\n",
    "\n",
    "for label in nlp.get_pipe(\"tagger\").labels:\n",
    "    print(label, \" -- \", spacy.explain(label))\n",
    "    \n",
    "*To get all dep of spacy*\n",
    "\n",
    "for label in nlp.get_pipe(\"parser\").labels:\n",
    "    print(label, \" -- \", spacy.explain(label))"
   ]
  },
  {
   "cell_type": "markdown",
   "metadata": {
    "_cell_guid": "a8240a39-7002-435b-ba45-ac859d209f7f",
    "_uuid": "69c6d7ea240a191abfaaf00574f09521944387d7"
   },
   "source": [
    "#### 2a: Find the ten most frequent words in the training set."
   ]
  },
  {
   "cell_type": "markdown",
   "metadata": {},
   "source": [
    "*Wordcount by tag, dep and pos, and then show top 20 for each of the dep/tag/pos*"
   ]
  },
  {
   "cell_type": "code",
   "execution_count": 102,
   "metadata": {},
   "outputs": [],
   "source": [
    "def wordcount(dataset):\n",
    "    tag_counter = {}\n",
    "    dep_counter = {}\n",
    "    pos_counter = {}\n",
    "    text_counter = {}\n",
    "\n",
    "    for row in dataset:\n",
    "        for token in row.tokens:\n",
    "            text = token.text.lower()\n",
    "            dep = token.dep_\n",
    "            tag = token.tag_\n",
    "            pos = token.pos_\n",
    "            lemma = token.lemma_\n",
    "            tag_counter.setdefault(tag, {})[lemma] = tag_counter.get(tag, {}).get(lemma, 0) + 1\n",
    "            dep_counter.setdefault(dep, {})[lemma] = dep_counter.get(dep, {}).get(lemma, 0) + 1\n",
    "            pos_counter.setdefault(pos, {})[lemma] = pos_counter.get(pos, {}).get(lemma, 0) + 1\n",
    "            text_counter[text] = text_counter.get(text, 0) + 1\n",
    "    \n",
    "    return tag_counter, dep_counter, pos_counter, text_counter"
   ]
  },
  {
   "cell_type": "code",
   "execution_count": 103,
   "metadata": {},
   "outputs": [],
   "source": [
    "wordcount_tag, wordcount_dep, wordcount_pos, wordcount_text = wordcount(train_set)"
   ]
  },
  {
   "cell_type": "code",
   "execution_count": 10,
   "metadata": {},
   "outputs": [
    {
     "name": "stdout",
     "output_type": "stream",
     "text": [
      "Top 20 most frequent words:\n"
     ]
    },
    {
     "data": {
      "text/plain": [
       "[('.', 1731),\n",
       " ('the', 1432),\n",
       " (',', 1012),\n",
       " (' ', 1000),\n",
       " ('and', 826),\n",
       " ('a', 669),\n",
       " ('i', 659),\n",
       " ('is', 517),\n",
       " ('of', 504),\n",
       " ('was', 501),\n",
       " ('it', 476),\n",
       " ('to', 473),\n",
       " ('this', 434),\n",
       " ('!', 333),\n",
       " ('in', 312),\n",
       " ('that', 235),\n",
       " ('for', 215),\n",
       " (\"'s\", 200),\n",
       " (\"n't\", 199),\n",
       " ('not', 193)]"
      ]
     },
     "execution_count": 10,
     "metadata": {},
     "output_type": "execute_result"
    }
   ],
   "source": [
    "print('Top 20 most frequent words:')\n",
    "sorted(wordcount_text.items(), key=lambda x: x[1], reverse=True)[:20]"
   ]
  },
  {
   "cell_type": "markdown",
   "metadata": {},
   "source": [
    "#**Print wordcount for each of the tag, dep and pos**\n",
    "\n",
    "```python\n",
    "print('Top frequent words for each tag_:')\n",
    "for tag, counts in wordcount_tag.items():\n",
    "    print(tag, '>>', sorted(counts.items(), key=lambda x: -x[1])[:40])\n",
    "```\n",
    "\n",
    "```python\n",
    "print('Top frequent words for each dep_:')\n",
    "for dep, counts in wordcount_dep.items():\n",
    "    print(dep, '>>', sorted(counts.items(), key=lambda x: -x[1])[:40])\n",
    "```\n",
    "\n",
    "```python\n",
    "print('Top frequent words for each pos_:')\n",
    "for pos, counts in wordcount_pos.items():\n",
    "    print(pos, '>>', sorted(counts.items(), key=lambda x: -x[1])[:40])\n",
    "```"
   ]
  },
  {
   "cell_type": "code",
   "execution_count": 11,
   "metadata": {},
   "outputs": [],
   "source": [
    "# Review the tags, deps manually and select following tags and deps, and stopwords\n",
    "# tags and deps not in the follwoing whitelist won't be considered, e.g. most Noun and Verb won't be considered\n",
    "from nltk.corpus import stopwords as nltk_stopwords\n",
    "\n",
    "\n",
    "all_tags = {\n",
    "    'RB', 'VBG', 'JJ', 'IN', 'WP', 'VBD', 'RBR', 'VBN', 'RP', 'VB', 'JJS', 'WRB', 'VBZ', 'WDT', \n",
    "    'VBP', 'MD', 'RBS', 'JJR', 'UH', 'EX', 'PDT', 'DT', 'CC'\n",
    "}\n",
    "\n",
    "all_deps = {'det', 'advmod', 'amod', 'ROOT', 'prep', 'neg', 'ccomp', 'acomp', 'attr', 'cc', 'conj', \n",
    "            'prt', 'mark', 'dep', 'aux', 'relcl', 'acl', 'intj', 'preconj', 'predet', 'csubj', 'pcomp', 'oprd'}\n",
    "\n",
    "stopwords = {\n",
    "    'i', 'me', 'my', 'myself', 'we', 'our', 'ours', 'ourselves', 'you', 'your', 'yours', 'yourself', \n",
    "    'yourselves', 'he', 'him', 'his', 'himself', 'she', 'her', 'hers', 'herself', 'it', 'its', 'itself', \n",
    "    'they', 'them', 'their', 'theirs', 'themselves', 'what', 'which', 'who', 'whom', 'this', 'that', \n",
    "    'these', 'those', 'am', 'a', 'an', '-', 'shrimp-', ' '\n",
    "}"
   ]
  },
  {
   "cell_type": "markdown",
   "metadata": {},
   "source": [
    "### 3. Train your model and justify your choices."
   ]
  },
  {
   "cell_type": "markdown",
   "metadata": {},
   "source": [
    "#### 3a: Generate features, use single word and n-gram in the above `all_tags`/`all_deps` list and `stopwords`"
   ]
  },
  {
   "cell_type": "code",
   "execution_count": 12,
   "metadata": {},
   "outputs": [],
   "source": [
    "def as_feature(tokens: List[Token]):\n",
    "    feature = []\n",
    "    for tok in tokens:\n",
    "        if (tok.lemma_ not in stopwords and (tok.tag_ in all_tags or tok.dep_ in all_deps)):\n",
    "            feature.append(tok.lemma_)\n",
    "    if feature:\n",
    "        return ';;'.join(sorted(feature))\n",
    "    return None\n",
    "\n",
    "\n",
    "def feature_generator(n_gram):\n",
    "    def generate_features(tokens: List[Token]):\n",
    "        features = set()\n",
    "        for i in range(1, n_gram+1):\n",
    "            for words in ngrams(tokens, i):\n",
    "                feature = as_feature(words)\n",
    "                if feature is not None:\n",
    "                    features.add(feature)\n",
    "        return features\n",
    "    \n",
    "    return generate_features\n",
    "\n",
    "@dataclass\n",
    "class FeatureAttr:\n",
    "    value: str\n",
    "    count: int\n",
    "    index: int\n",
    "\n",
    "def generate_feature_lookup(dataset, feature_generator_func) -> Dict[str, FeatureAttr]:\n",
    "    \"\"\"\n",
    "    feature_generator_func: n-gram feature generation function, calling `feature_generator` \n",
    "    with n_gram to generate the generator functions with n-gram features.\n",
    "    \n",
    "    Generate FeatureAttr\n",
    "    \"\"\"\n",
    "    feature_dict = {}\n",
    "    for row in dataset:\n",
    "        for feature in feature_generator_func(row.tokens):\n",
    "            feature_dict[feature] = feature_dict.get(feature, 0) + 1\n",
    "            \n",
    "    lookup_dict = {}\n",
    "    for index, kv in enumerate(feature_dict.items()):\n",
    "        key = kv[0]\n",
    "        value = kv[1]\n",
    "        lookup_dict[key] = FeatureAttr(key, value, index)\n",
    "        \n",
    "    return lookup_dict"
   ]
  },
  {
   "cell_type": "markdown",
   "metadata": {},
   "source": [
    "##### Generate n-dimension traning vector"
   ]
  },
  {
   "cell_type": "code",
   "execution_count": 13,
   "metadata": {},
   "outputs": [],
   "source": [
    "def features2vector(tokens: List[Token], feature_lookup: Dict[str, FeatureAttr], feature_generator_func, by_count=False):\n",
    "    num_features = len(feature_lookup)\n",
    "    row_array = [0 for _ in range(num_features)]\n",
    "    for feature in feature_generator_func(tokens):\n",
    "        if feature in feature_lookup:\n",
    "            if by_count:\n",
    "                # use the occurance of the token in this document as the feature\n",
    "                row_array[feature_lookup[feature].index] += 1\n",
    "            else:\n",
    "                row_array[feature_lookup[feature].index] = 1\n",
    "    return row_array"
   ]
  },
  {
   "cell_type": "code",
   "execution_count": 14,
   "metadata": {},
   "outputs": [],
   "source": [
    "def to_X(dataset, feature_lookup, feature_generator_func, by_count=False):\n",
    "    return [\n",
    "        features2vector(row.tokens, feature_lookup, feature_generator_func, by_count)\n",
    "        for row in dataset\n",
    "    ]\n",
    "\n",
    "def to_y(dataset):\n",
    "    return [row.label for row in dataset]"
   ]
  },
  {
   "cell_type": "code",
   "execution_count": 15,
   "metadata": {},
   "outputs": [],
   "source": [
    "from sklearn import metrics\n",
    "import seaborn\n",
    "from matplotlib import pyplot as plt"
   ]
  },
  {
   "cell_type": "code",
   "execution_count": 16,
   "metadata": {},
   "outputs": [],
   "source": [
    "def evaluate_model(y_label, y_predict):\n",
    "    conf_matrix = metrics.confusion_matrix(y_label, y_predict)\n",
    "    \n",
    "    print('Confusion Matrix:\\n', conf_matrix)\n",
    "    seaborn.heatmap(conf_matrix, annot=True, fmt='g')\n",
    "    plt.xlabel('Predicted')\n",
    "    plt.ylabel('Labeled')\n",
    "    \n",
    "    print('Accuracy:', metrics.accuracy_score(y_label, y_predict))\n",
    "    print('Precision:', metrics.precision_score(y_label, y_predict))\n",
    "    print('Recall:', metrics.recall_score(y_label, y_predict))"
   ]
  },
  {
   "cell_type": "code",
   "execution_count": 17,
   "metadata": {},
   "outputs": [],
   "source": [
    "@dataclass\n",
    "class PreparedData:\n",
    "    feature_lookup: Dict[str, FeatureAttr]\n",
    "    X_train: List[List[Union[int, float]]]\n",
    "    y_train: List[Union[int, float]]\n",
    "    X_test: List[List[Union[int, float]]]\n",
    "    y_test: List[Union[int, float]]"
   ]
  },
  {
   "cell_type": "code",
   "execution_count": 18,
   "metadata": {},
   "outputs": [],
   "source": [
    "def generate_all_datasets(dataset_train, dataset_test, n_gram, by_count):\n",
    "    \"\"\"\n",
    "    Generate all required datasets for traning and evaluation for given parameters:\n",
    "        - feature_lookup containing map of feature and idnex, and map of feature and its wordcount (for all sample data)\n",
    "        - train X, y\n",
    "        - test X, y\n",
    "    \"\"\"\n",
    "    \n",
    "    print(f'n-gram is {n_gram}')\n",
    "\n",
    "    feature_generator_func = feature_generator(n_gram)\n",
    "    feature_lookup = generate_feature_lookup(dataset_train, feature_generator_func)\n",
    "\n",
    "    X_train = to_X(dataset_train, feature_lookup, feature_generator_func=feature_generator_func, by_count=by_count)\n",
    "    y_train = to_y(dataset_train)\n",
    "    \n",
    "    X_test = to_X(dataset_test, feature_lookup, feature_generator_func=feature_generator_func, by_count=by_count)\n",
    "    y_test = to_y(dataset_test)\n",
    "    \n",
    "    return PreparedData(\n",
    "        feature_lookup=feature_lookup,\n",
    "        X_train=X_train,\n",
    "        y_train=y_train,\n",
    "        X_test=X_test,\n",
    "        y_test=y_test\n",
    "    )"
   ]
  },
  {
   "cell_type": "code",
   "execution_count": 19,
   "metadata": {},
   "outputs": [],
   "source": [
    "def print_feature_vector(sentence, vector, feature_lookup):\n",
    "    feature_view = [(x[0][0], x[1]) for x in \n",
    "                  zip(\n",
    "                      sorted(feature_lookup.items(), key=lambda x: x[1].index),\n",
    "                      vector\n",
    "                  ) \n",
    "                  if x[1] != 0]\n",
    "    print('original comment:', sentence)\n",
    "    print('features of the first sample:', feature_view)\n",
    "    \n",
    "\n",
    "def print_feature(row: Sentence, feature_lookup: Dict[str, FeatureAttr], feature_generator_func, by_count):\n",
    "    vector = features2vector(row.tokens, feature_lookup, feature_generator_func, by_count)\n",
    "    print_feature_vector(row.sentence, vector, feature_lookup)\n",
    "    \n",
    "def print_feature_by_X(dataset, X, k, feature_lookup):\n",
    "    print_feature_vector(dataset[k].sentence, X[k], feature_lookup)"
   ]
  },
  {
   "cell_type": "markdown",
   "metadata": {},
   "source": [
    "#### Generate features with n-gram is 5"
   ]
  },
  {
   "cell_type": "code",
   "execution_count": 20,
   "metadata": {},
   "outputs": [
    {
     "name": "stdout",
     "output_type": "stream",
     "text": [
      "n-gram is 5\n"
     ]
    }
   ],
   "source": [
    "prepared_data = generate_all_datasets(train_set, test_set, 5, False)"
   ]
  },
  {
   "cell_type": "code",
   "execution_count": 57,
   "metadata": {},
   "outputs": [
    {
     "name": "stdout",
     "output_type": "stream",
     "text": [
      "original comment: The best scene in the movie was when Gerardo is trying to find a song that keeps running through his head.  \n",
      "features of the first sample: [('be', 1), ('the', 1), ('be;;the', 1), ('to', 1), ('be;;find;;to;;try', 1), ('good;;the', 1), ('be;;to;;try', 1), ('good;;in;;the;;the', 1), ('be;;be;;when', 1), ('try', 1), ('find;;keep', 1), ('be;;try;;when', 1), ('run', 1), ('be;;when', 1), ('find', 1), ('in;;the', 1), ('good;;in', 1), ('good', 1), ('find;;to;;try', 1), ('through', 1), ('keep;;run;;through', 1), ('be;;be;;try;;when', 1), ('keep;;run', 1), ('when', 1), ('find;;to', 1), ('in', 1), ('good;;in;;the', 1), ('be;;the;;when', 1), ('be;;to;;try;;when', 1), ('be;;in;;the', 1), ('be;;try', 1), ('run;;through', 1), ('keep', 1), ('to;;try', 1), ('be;;in;;the;;when', 1)]\n"
     ]
    }
   ],
   "source": [
    "print_feature_by_X(train_set, prepared_data.X_train, 4, prepared_data.feature_lookup)"
   ]
  },
  {
   "cell_type": "markdown",
   "metadata": {},
   "source": [
    "**A view of the features**"
   ]
  },
  {
   "cell_type": "code",
   "execution_count": 22,
   "metadata": {},
   "outputs": [
    {
     "name": "stdout",
     "output_type": "stream",
     "text": [
      "Top 20: [('be', 1236), ('the', 960), ('and', 670), ('of', 428), ('to', 399), ('be;;the', 353), ('in', 287), ('have', 241), ('for', 199), ('good', 189), (\"n't\", 188), ('not', 184), ('do', 183), ('of;;the', 172), ('with', 155), ('but', 154), ('very', 128), ('and;;the', 127), ('so', 122), ('on', 121)] \n",
      "\n",
      "Mid: [('amazing;;and', 2), ('trilogy', 2), ('and;;trilogy', 2), ('of;;work', 2), ('10;;out', 2), ('10;;of;;out', 2), ('for;;of;;out', 2), ('be;;of;;one;;think', 2), ('be;;one;;think', 2), ('find;;the', 2), ('be;;stunning', 2), ('be;;tell;;the', 2), ('and;;for;;leave', 2), ('unfold', 2), ('most;;wonderful', 2), ('sublime', 2), ('poetry', 2), ('reviewer', 2), ('only;;say', 2), ('masterful', 2), ('pitiful', 2), ('can;;only;;say', 2), ('make;;some', 2), ('be;;pitiful', 2), ('but;;of', 2), ('be;;very;;well', 2), ('all;;be;;well', 2), ('get;;see;;to', 2), ('dangerous', 2), ('even;;have', 2), ('funny;;really', 2), ('all;;in;;the', 2), ('and;;do;;really', 2), ('shed', 2), ('so;;so', 2), ('after;;see', 2), ('underneath', 2), ('the;;underneath', 2), ('as;;be;;dry', 2), ('and;;dry', 2)] \n",
      "\n",
      "Last 20: [('by;;draw;;out;;the', 1), (\"enough;;n't;;waste\", 1), (\"have;;if;;n't;;waste\", 1), ('pour;;there', 1), ('enough;;waste', 1), ('out;;take;;the', 1), ('bring;;take;;the;;to', 1), ('enough;;of;;there', 1), (\"as;;have;;if;;n't\", 1), ('bring;;take;;to', 1), (\"have;;n't;;waste\", 1), ('enough;;of;;waste', 1), (\"enough;;n't;;of;;waste\", 1), ('as;;then', 1), (\"enough;;have;;n't;;waste\", 1), ('by;;draw;;out', 1), ('by;;draw;;in;;the', 1), ('by;;draw', 1), ('draw;;out', 1), ('by;;draw;;the', 1)]\n",
      "Feature dimension with n-gram (n is [1, 5]): 27917\n"
     ]
    }
   ],
   "source": [
    "feature_dict_desc = [(x[0], x[1].count) for x in sorted(prepared_data.feature_lookup.items(), key=lambda x: -x[1].count)]\n",
    "print('Top 20:', feature_dict_desc[:20], '\\n\\nMid:', feature_dict_desc[2200:2240], '\\n\\nLast 20:', feature_dict_desc[-20:])\n",
    "print(f'Feature dimension with n-gram (n is [1, 5]):', len(feature_dict_desc))"
   ]
  },
  {
   "cell_type": "markdown",
   "metadata": {},
   "source": [
    "##### Train a model with LogisticRegression (solver=lbfgs) algorithm"
   ]
  },
  {
   "cell_type": "code",
   "execution_count": 23,
   "metadata": {},
   "outputs": [],
   "source": [
    "from sklearn.linear_model import LogisticRegression"
   ]
  },
  {
   "cell_type": "code",
   "execution_count": 24,
   "metadata": {},
   "outputs": [],
   "source": [
    "def save_lr_model(lr_model, feature_lookup, path):\n",
    "    model = {\n",
    "        'intercept': lr_model.intercept_[0],\n",
    "        'coefficients': list(zip(map(lambda x: x[0], sorted(feature_lookup.items(), key=lambda x: x[1].index)), lr_model.coef_.tolist()[0]))\n",
    "    }\n",
    "    json.dump(model, open(path, 'w'), indent=2)"
   ]
  },
  {
   "cell_type": "code",
   "execution_count": 25,
   "metadata": {},
   "outputs": [],
   "source": [
    "def train_lr_model(X, y):\n",
    "    model = LogisticRegression(solver='lbfgs').fit(X, y)\n",
    "    print('Train set avg accuracy:', model.score(X, y))\n",
    "\n",
    "    return model"
   ]
  },
  {
   "cell_type": "code",
   "execution_count": 26,
   "metadata": {},
   "outputs": [
    {
     "name": "stdout",
     "output_type": "stream",
     "text": [
      "Train set avg accuracy: 0.9975\n"
     ]
    }
   ],
   "source": [
    "clf_lr = train_lr_model(prepared_data.X_train, prepared_data.y_train)"
   ]
  },
  {
   "cell_type": "markdown",
   "metadata": {},
   "source": [
    "##### save the model's coefficients/intercept for manual review"
   ]
  },
  {
   "cell_type": "code",
   "execution_count": 27,
   "metadata": {
    "scrolled": false
   },
   "outputs": [],
   "source": [
    "save_lr_model(clf_lr, prepared_data.feature_lookup, 'model_lr.json')"
   ]
  },
  {
   "cell_type": "markdown",
   "metadata": {
    "_cell_guid": "1a5840b2-c84c-42f6-9fc9-4fed64e48298",
    "_uuid": "f4eeecd64b54cc05098affe6cca4c40204af8ecf"
   },
   "source": [
    "### 4. Evaluate your model using metric(s) you see fit and justify your choices."
   ]
  },
  {
   "cell_type": "code",
   "execution_count": 28,
   "metadata": {},
   "outputs": [
    {
     "name": "stdout",
     "output_type": "stream",
     "text": [
      "Confusion Matrix:\n",
      " [[373 127]\n",
      " [ 90 410]]\n",
      "Accuracy: 0.783\n",
      "Precision: 0.7635009310986964\n",
      "Recall: 0.82\n"
     ]
    },
    {
     "data": {
      "image/png": "[encoded data removed]",
      "text/plain": [
       "<Figure size 432x288 with 2 Axes>"
      ]
     },
     "metadata": {
      "needs_background": "light"
     },
     "output_type": "display_data"
    }
   ],
   "source": [
    "y_predict = clf_lr.predict(prepared_data.X_test)\n",
    "evaluate_model(prepared_data.y_test, y_predict)"
   ]
  },
  {
   "cell_type": "markdown",
   "metadata": {},
   "source": [
    "### 5. Try to improve"
   ]
  },
  {
   "cell_type": "markdown",
   "metadata": {},
   "source": [
    "##### 5a. adjust the train and test dataset"
   ]
  },
  {
   "cell_type": "markdown",
   "metadata": {},
   "source": [
    "The above train set is more about file/move, it might be a skewed dataset. Try to re-split the dataset as 80%/20%."
   ]
  },
  {
   "cell_type": "code",
   "execution_count": 29,
   "metadata": {},
   "outputs": [],
   "source": [
    "train_set_sh = train_set[:800] + train_set[1000:1800] + test_set[:800]\n",
    "test_set_sh = train_set[800:1000] + train_set[1800:] + test_set[800:]"
   ]
  },
  {
   "cell_type": "code",
   "execution_count": 30,
   "metadata": {},
   "outputs": [
    {
     "name": "stdout",
     "output_type": "stream",
     "text": [
      "Re-split the train/test set as 80%/20%: 2400/600\n"
     ]
    }
   ],
   "source": [
    "print(f'Re-split the train/test set as 80%/20%: {len(train_set_sh)}/{len(test_set_sh)}')"
   ]
  },
  {
   "cell_type": "code",
   "execution_count": 31,
   "metadata": {},
   "outputs": [
    {
     "name": "stdout",
     "output_type": "stream",
     "text": [
      "n-gram is 5\n"
     ]
    }
   ],
   "source": [
    "prepared_data_sh = generate_all_datasets(train_set_sh, test_set_sh, 5, False)"
   ]
  },
  {
   "cell_type": "code",
   "execution_count": 32,
   "metadata": {},
   "outputs": [
    {
     "name": "stdout",
     "output_type": "stream",
     "text": [
      "Train set avg accuracy: 0.9975\n"
     ]
    }
   ],
   "source": [
    "clf_lr_sh = train_lr_model(prepared_data_sh.X_train, prepared_data_sh.y_train)"
   ]
  },
  {
   "cell_type": "code",
   "execution_count": 33,
   "metadata": {},
   "outputs": [
    {
     "name": "stdout",
     "output_type": "stream",
     "text": [
      "Confusion Matrix:\n",
      " [[292  55]\n",
      " [ 50 203]]\n",
      "Accuracy: 0.825\n",
      "Precision: 0.7868217054263565\n",
      "Recall: 0.8023715415019763\n"
     ]
    },
    {
     "data": {
      "image/png": "[encoded data removed]",
      "text/plain": [
       "<Figure size 432x288 with 2 Axes>"
      ]
     },
     "metadata": {
      "needs_background": "light"
     },
     "output_type": "display_data"
    }
   ],
   "source": [
    "y_predict_sh = clf_lr_sh.predict(prepared_data_sh.X_test)\n",
    "evaluate_model(prepared_data_sh.y_test, y_predict_sh)"
   ]
  },
  {
   "cell_type": "markdown",
   "metadata": {},
   "source": [
    "##### 5b try random forest"
   ]
  },
  {
   "cell_type": "code",
   "execution_count": 34,
   "metadata": {},
   "outputs": [],
   "source": [
    "from sklearn.ensemble import RandomForestClassifier"
   ]
  },
  {
   "cell_type": "code",
   "execution_count": 35,
   "metadata": {},
   "outputs": [
    {
     "data": {
      "text/plain": [
       "RandomForestClassifier(n_estimators=300)"
      ]
     },
     "execution_count": 35,
     "metadata": {},
     "output_type": "execute_result"
    }
   ],
   "source": [
    "clf_rf = RandomForestClassifier(n_estimators=300)\n",
    "clf_rf.fit(prepared_data.X_train, prepared_data.y_train)"
   ]
  },
  {
   "cell_type": "code",
   "execution_count": 36,
   "metadata": {},
   "outputs": [
    {
     "data": {
      "text/plain": [
       "1.0"
      ]
     },
     "execution_count": 36,
     "metadata": {},
     "output_type": "execute_result"
    }
   ],
   "source": [
    "clf_rf.score(prepared_data.X_train, prepared_data.y_train)"
   ]
  },
  {
   "cell_type": "code",
   "execution_count": 37,
   "metadata": {
    "scrolled": false
   },
   "outputs": [
    {
     "name": "stdout",
     "output_type": "stream",
     "text": [
      "Confusion Matrix:\n",
      " [[332 168]\n",
      " [ 62 438]]\n",
      "Accuracy: 0.77\n",
      "Precision: 0.7227722772277227\n",
      "Recall: 0.876\n"
     ]
    },
    {
     "data": {
      "image/png": "[encoded data removed]",
      "text/plain": [
       "<Figure size 432x288 with 2 Axes>"
      ]
     },
     "metadata": {
      "needs_background": "light"
     },
     "output_type": "display_data"
    }
   ],
   "source": [
    "y_predict_rf = clf_rf.predict(prepared_data.X_test)\n",
    "evaluate_model(prepared_data.y_test, y_predict_rf)"
   ]
  },
  {
   "cell_type": "markdown",
   "metadata": {},
   "source": [
    "### Manual check (for the first Logistic Regression Model)"
   ]
  },
  {
   "cell_type": "code",
   "execution_count": 38,
   "metadata": {},
   "outputs": [],
   "source": [
    "wrong_predictions = list(filter(lambda x: x[1][0] != x[1][1], enumerate(zip(y_predict, prepared_data.y_test))))"
   ]
  },
  {
   "cell_type": "code",
   "execution_count": 39,
   "metadata": {},
   "outputs": [
    {
     "data": {
      "text/plain": [
       "[(5, (1, 0)),\n",
       " (6, (1, 0)),\n",
       " (12, (1, 0)),\n",
       " (24, (1, 0)),\n",
       " (28, (1, 0)),\n",
       " (39, (1, 0)),\n",
       " (46, (1, 0)),\n",
       " (47, (1, 0)),\n",
       " (49, (1, 0)),\n",
       " (51, (0, 1))]"
      ]
     },
     "execution_count": 39,
     "metadata": {},
     "output_type": "execute_result"
    }
   ],
   "source": [
    "wrong_predictions[:10]"
   ]
  },
  {
   "cell_type": "code",
   "execution_count": 40,
   "metadata": {
    "scrolled": false
   },
   "outputs": [
    {
     "name": "stdout",
     "output_type": "stream",
     "text": [
      "--------------------\n",
      "Predict: 1, label: 0, predict_score: [[0.31821271 0.68178729]]\n",
      "original comment: I have to jiggle the plug to get it to line up right to get decent volume.\n",
      "features of the first sample: [('the', 1), ('line', 1), ('to', 1), ('right', 1), ('have', 1), ('up', 1), ('have;;to', 1), ('the;;to', 1), ('decent', 1), ('get', 1), ('get;;to', 1), ('get;;the;;to', 1), ('right;;to', 1), ('get;;right;;to', 1)]\n",
      "\n",
      "--------------------\n",
      "Predict: 1, label: 0, predict_score: [[0.26608367 0.73391633]]\n",
      "original comment: If you have several dozen or several hundred contacts, then imagine the fun of sending each of them one by one.\n",
      "features of the first sample: [('of', 1), ('the', 1), ('or', 1), ('of;;the', 1), ('if', 1), ('have', 1), ('by', 1), ('then', 1), ('several', 1), ('have;;if', 1), ('each', 1), ('by;;of', 1), ('each;;of', 1), ('imagine', 1), ('send', 1)]\n",
      "\n",
      "--------------------\n",
      "Predict: 1, label: 0, predict_score: [[0.45665521 0.54334479]]\n",
      "original comment: If the two were seperated by a mere 5+ ft I started to notice excessive static and garbled sound from the headset.\n",
      "features of the first sample: [('be', 1), ('the', 1), ('and', 1), ('be;;the', 1), ('to', 1), ('if', 1), ('from;;the', 1), ('from', 1), ('by', 1), ('if;;the', 1), ('start', 1), ('start;;to', 1), ('seperate', 1), ('be;;if;;the', 1)]\n",
      "\n",
      "--------------------\n",
      "Predict: 1, label: 0, predict_score: [[0.17828629 0.82171371]]\n",
      "original comment: I bought it for my mother and she had a problem with the battery.\n",
      "features of the first sample: [('the', 1), ('and', 1), ('with', 1), ('for', 1), ('have', 1), ('buy', 1), ('the;;with', 1), ('and;;for', 1), ('and;;have', 1), ('have;;with', 1), ('have;;the;;with', 1)]\n",
      "\n",
      "--------------------\n",
      "Predict: 1, label: 0, predict_score: [[0.22216337 0.77783663]]\n",
      "original comment: People couldnt hear me talk and I had to pull out the earphone and talk on the phone.\n",
      "features of the first sample: [('out', 1), ('the', 1), ('and', 1), ('and;;the', 1), ('to', 1), ('on', 1), ('have', 1), ('pull', 1), ('have;;to', 1), ('on;;the', 1), ('could', 1), ('talk', 1), ('and;;have', 1), ('nt', 1), ('out;;pull', 1), ('hear', 1), ('pull;;to', 1), ('and;;talk', 1), ('out;;the', 1), ('and;;have;;to', 1)]\n",
      "\n",
      "--------------------\n",
      "Predict: 1, label: 0, predict_score: [[0.4673245 0.5326755]]\n",
      "original comment: worthless product.\n",
      "features of the first sample: [('product', 1), ('worthless', 1)]\n",
      "\n",
      "--------------------\n",
      "Predict: 1, label: 0, predict_score: [[0.3817585 0.6182415]]\n",
      "original comment: Who in their right mind is gonna buy this battery?.\n",
      "features of the first sample: [('be', 1), ('in', 1), ('right', 1), ('in;;right', 1), ('buy', 1), ('gon', 1), ('be;;gon;;na', 1), ('gon;;na', 1), ('be;;gon', 1), ('na', 1), ('be;;right', 1)]\n",
      "\n",
      "--------------------\n",
      "Predict: 1, label: 0, predict_score: [[0.49566692 0.50433308]]\n",
      "original comment: AFTER ARGUING WITH VERIZON REGARDING THE DROPPED CALLS WE RETURNED THE PHONES AFTER TWO DAYS.\n",
      "features of the first sample: [('the', 1), ('with', 1), ('after', 1), ('return', 1), ('after;;the', 1), ('argue', 1)]\n",
      "\n",
      "--------------------\n",
      "Predict: 1, label: 0, predict_score: [[0.23202114 0.76797886]]\n",
      "original comment: Disappointed with battery.\n",
      "features of the first sample: [('with', 1), ('disappoint', 1)]\n",
      "\n",
      "--------------------\n",
      "Predict: 0, label: 1, predict_score: [[0.66324837 0.33675163]]\n",
      "original comment: good protection and does not make phone too bulky.\n",
      "features of the first sample: [('not', 1), ('and', 1), ('good', 1), ('make', 1), ('and;;good', 1), ('do', 1), ('too', 1), ('make;;not', 1), ('do;;not', 1), ('and;;do', 1), ('and;;do;;good', 1), ('and;;do;;not', 1)]\n",
      "\n",
      "--------------------\n",
      "Predict: 0, label: 1, predict_score: [[0.61347846 0.38652154]]\n",
      "original comment: A usable keyboard actually turns a PDA into a real-world useful machine instead of just a neat gadget.\n",
      "features of the first sample: [('of', 1), ('just', 1), ('actually', 1), ('into', 1), ('real', 1), ('turn', 1), ('actually;;turn', 1), ('instead;;of', 1), ('instead', 1), ('just;;of', 1), ('neat', 1)]\n",
      "\n",
      "--------------------\n",
      "Predict: 0, label: 1, predict_score: [[0.67253155 0.32746845]]\n",
      "original comment: This phone is pretty sturdy and I've never had any large problems with it.\n",
      "features of the first sample: [('be', 1), ('and', 1), ('with', 1), ('have', 1), ('any', 1), (\"'ve\", 1), ('pretty', 1), ('be;;pretty', 1), (\"'ve;;never\", 1), ('never', 1), ('have;;never', 1), ('any;;have', 1), (\"'ve;;and;;never\", 1), (\"'ve;;and\", 1), ('large', 1)]\n",
      "\n",
      "--------------------\n",
      "Predict: 1, label: 0, predict_score: [[0.26358597 0.73641403]]\n",
      "original comment: Essentially you can forget Microsoft's tech support.\n",
      "features of the first sample: [('can', 1), ('forget', 1)]\n",
      "\n",
      "--------------------\n",
      "Predict: 1, label: 0, predict_score: [[0.33552538 0.66447462]]\n",
      "original comment: The one big drawback of the MP3 player is that the buttons on the phone's front cover that let you pause and skip songs lock out after a few seconds.\n",
      "features of the first sample: [('be', 1), ('out', 1), ('of', 1), ('the', 1), ('and', 1), ('be;;the', 1), ('of;;the', 1), ('on', 1), ('on;;the', 1), ('let', 1), ('be;;of;;the', 1), ('after', 1), ('few', 1), ('big', 1), ('skip', 1), ('big;;the', 1), ('big;;of', 1)]\n",
      "\n",
      "--------------------\n",
      "Predict: 1, label: 0, predict_score: [[0.3563562 0.6436438]]\n",
      "original comment: A week later after I activated it, it suddenly died.\n",
      "features of the first sample: [('after', 1), ('later', 1), ('die', 1)]\n",
      "\n",
      "--------------------\n",
      "Predict: 0, label: 1, predict_score: [[0.71844623 0.28155377]]\n",
      "original comment: It feels more comfortable than most headsets because I wear glasses and that gets in the way sometimes.\n",
      "features of the first sample: [('the', 1), ('more', 1), ('and', 1), ('in;;the', 1), ('in', 1), ('because', 1), ('most', 1), ('than', 1), ('feel', 1), ('sometimes', 1), ('get', 1), ('and;;get', 1), ('comfortable', 1)]\n",
      "\n",
      "--------------------\n",
      "Predict: 1, label: 0, predict_score: [[0.09611253 0.90388747]]\n",
      "original comment: This item worked great, but it broke after 6 months of use.\n",
      "features of the first sample: [('of', 1), ('work', 1), ('great', 1), ('but', 1), ('after', 1), ('break', 1), ('but;;great', 1)]\n",
      "\n",
      "--------------------\n",
      "Predict: 1, label: 0, predict_score: [[0.33191935 0.66808065]]\n",
      "original comment: For a product that costs as much as this one does, I expect it to work far better and with greater ease than this thing does.\n",
      "features of the first sample: [('and', 1), ('with', 1), ('as', 1), ('to', 1), ('work', 1), ('for', 1), ('great', 1), ('than', 1), ('do', 1), ('far', 1), ('well', 1), ('much', 1), ('cost', 1), ('as;;much', 1), ('as;;do', 1), ('and;;well', 1), ('and;;with', 1), ('to;;work', 1), ('expect', 1), ('as;;as;;much', 1), ('great;;with', 1), ('and;;great;;with', 1), ('expect;;to', 1), ('far;;well', 1)]\n",
      "\n",
      "--------------------\n",
      "Predict: 0, label: 1, predict_score: [[0.52748648 0.47251352]]\n",
      "original comment: Made very sturdy.\n",
      "features of the first sample: [('very', 1), ('make', 1), ('make;;very', 1)]\n",
      "\n",
      "--------------------\n",
      "Predict: 1, label: 0, predict_score: [[0.3953386 0.6046614]]\n",
      "original comment: The ear buds only play music in one ear.\n",
      "features of the first sample: [('the', 1), ('in', 1), ('play', 1), ('only', 1), ('only;;the', 1), ('in;;play', 1)]\n",
      "\n"
     ]
    }
   ],
   "source": [
    "for index, (predict, lable) in wrong_predictions[:20]:\n",
    "    print('-' * 20)\n",
    "    print(f'Predict: {predict}, label: {lable}, predict_score: {clf_lr.predict_proba([prepared_data.X_test[index]])}')\n",
    "    print_feature_by_X(test_set, prepared_data.X_test, index, prepared_data.feature_lookup)\n",
    "    print()"
   ]
  },
  {
   "cell_type": "markdown",
   "metadata": {},
   "source": [
    "### Other models"
   ]
  },
  {
   "cell_type": "markdown",
   "metadata": {},
   "source": [
    "#### ada on decision tree"
   ]
  },
  {
   "cell_type": "code",
   "execution_count": 41,
   "metadata": {},
   "outputs": [],
   "source": [
    "from sklearn.model_selection import cross_val_score\n",
    "from sklearn.tree import DecisionTreeClassifier\n",
    "from sklearn.ensemble import AdaBoostClassifier"
   ]
  },
  {
   "cell_type": "code",
   "execution_count": 42,
   "metadata": {},
   "outputs": [],
   "source": [
    "clf_ada = AdaBoostClassifier(DecisionTreeClassifier(max_depth=3), n_estimators=100)"
   ]
  },
  {
   "cell_type": "code",
   "execution_count": 43,
   "metadata": {},
   "outputs": [
    {
     "data": {
      "text/plain": [
       "AdaBoostClassifier(base_estimator=DecisionTreeClassifier(max_depth=3),\n",
       "                   n_estimators=100)"
      ]
     },
     "execution_count": 43,
     "metadata": {},
     "output_type": "execute_result"
    }
   ],
   "source": [
    "clf_ada.fit(prepared_data.X_train, prepared_data.y_train)"
   ]
  },
  {
   "cell_type": "code",
   "execution_count": 44,
   "metadata": {},
   "outputs": [
    {
     "data": {
      "text/plain": [
       "0.9855"
      ]
     },
     "execution_count": 44,
     "metadata": {},
     "output_type": "execute_result"
    }
   ],
   "source": [
    "clf_ada.score(prepared_data.X_train, prepared_data.y_train)"
   ]
  },
  {
   "cell_type": "code",
   "execution_count": 45,
   "metadata": {},
   "outputs": [
    {
     "name": "stdout",
     "output_type": "stream",
     "text": [
      "Confusion Matrix:\n",
      " [[332 168]\n",
      " [ 62 438]]\n",
      "Accuracy: 0.77\n",
      "Precision: 0.7227722772277227\n",
      "Recall: 0.876\n"
     ]
    },
    {
     "data": {
      "image/png": "[encoded data removed]",
      "text/plain": [
       "<Figure size 432x288 with 2 Axes>"
      ]
     },
     "metadata": {
      "needs_background": "light"
     },
     "output_type": "display_data"
    }
   ],
   "source": [
    "y_predict_ada = clf_rf.predict(prepared_data.X_test)\n",
    "evaluate_model(prepared_data.y_test, y_predict_ada)"
   ]
  },
  {
   "cell_type": "markdown",
   "metadata": {},
   "source": [
    "##### randomised search on random forest"
   ]
  },
  {
   "cell_type": "markdown",
   "metadata": {},
   "source": [
    "Refer to this: https://scikit-learn.org/0.15/auto_examples/model_selection/randomized_search.html"
   ]
  },
  {
   "cell_type": "code",
   "execution_count": 46,
   "metadata": {},
   "outputs": [],
   "source": [
    "from scipy.stats import randint as sp_randint\n",
    "from sklearn.model_selection import GridSearchCV, RandomizedSearchCV"
   ]
  },
  {
   "cell_type": "code",
   "execution_count": 47,
   "metadata": {},
   "outputs": [],
   "source": [
    "clf_rfc = RandomForestClassifier(n_estimators=100)\n",
    "# specify parameters and distributions to sample from\n",
    "param_dist = {\"max_depth\": [3, None],\n",
    "              \"max_features\": sp_randint(1, 11),\n",
    "              \"min_samples_split\": sp_randint(2, 11),\n",
    "              \"min_samples_leaf\": sp_randint(1, 11),\n",
    "              \"bootstrap\": [True, False],\n",
    "              \"criterion\": [\"gini\", \"entropy\"]}\n",
    "\n",
    "# run randomized search\n",
    "n_iter_search = 20\n",
    "random_search = RandomizedSearchCV(clf_rfc, param_distributions=param_dist, n_iter=n_iter_search)"
   ]
  },
  {
   "cell_type": "code",
   "execution_count": 48,
   "metadata": {},
   "outputs": [
    {
     "name": "stdout",
     "output_type": "stream",
     "text": [
      "Confusion Matrix:\n",
      " [[348 152]\n",
      " [ 73 427]]\n",
      "Accuracy: 0.775\n",
      "Precision: 0.7374784110535406\n",
      "Recall: 0.854\n"
     ]
    },
    {
     "data": {
      "image/png": "[encoded data removed]",
      "text/plain": [
       "<Figure size 432x288 with 2 Axes>"
      ]
     },
     "metadata": {
      "needs_background": "light"
     },
     "output_type": "display_data"
    }
   ],
   "source": [
    "random_search.fit(prepared_data.X_train, prepared_data.y_train)\n",
    "\n",
    "y_predict_rs = random_search.predict(prepared_data.X_test)\n",
    "random_search.score(prepared_data.X_train, prepared_data.y_train)\n",
    "evaluate_model(prepared_data.y_test, y_predict_rs)"
   ]
  },
  {
   "cell_type": "markdown",
   "metadata": {},
   "source": [
    "### 6. Try to improve features, looks like feature is the limit"
   ]
  },
  {
   "cell_type": "markdown",
   "metadata": {},
   "source": [
    "Refer to https://scikit-learn.org/stable/modules/feature_extraction.html"
   ]
  },
  {
   "cell_type": "code",
   "execution_count": 49,
   "metadata": {},
   "outputs": [],
   "source": [
    "from sklearn.feature_extraction.text import CountVectorizer\n",
    "from nltk.stem.snowball import SnowballStemmer"
   ]
  },
  {
   "cell_type": "code",
   "execution_count": 50,
   "metadata": {},
   "outputs": [],
   "source": [
    "class StemTokenizer:\n",
    "    def __init__(self):\n",
    "        self.stemmer = SnowballStemmer(language='english')\n",
    "    \n",
    "    def __call__(self, doc):\n",
    "        return [self.stemmer.stem(t.text) for t in nlp(doc) if t.pos_ != 'PUNCT']"
   ]
  },
  {
   "cell_type": "code",
   "execution_count": 51,
   "metadata": {},
   "outputs": [],
   "source": [
    "bigram_vectorizer = CountVectorizer(tokenizer=StemTokenizer(), ngram_range=(1, 2), stop_words=list(stopwords), token_pattern=r'\\b\\w+\\b', min_df=1)"
   ]
  },
  {
   "cell_type": "code",
   "execution_count": 52,
   "metadata": {},
   "outputs": [
    {
     "name": "stderr",
     "output_type": "stream",
     "text": [
      "/Users/xid/Workspace/Ipynb/venv/lib/python3.8/site-packages/sklearn/feature_extraction/text.py:388: UserWarning: Your stop_words may be inconsistent with your preprocessing. Tokenizing the stop words generated tokens ['ourselv', 'themselv', 'yourselv'] not in stop_words.\n",
      "  warnings.warn('Your stop_words may be inconsistent with '\n"
     ]
    }
   ],
   "source": [
    "X_train_cv = bigram_vectorizer.fit_transform([x.sentence for x in train_set])\n",
    "X_test_cv = bigram_vectorizer.transform([x.sentence for x in test_set])"
   ]
  },
  {
   "cell_type": "code",
   "execution_count": 53,
   "metadata": {},
   "outputs": [
    {
     "name": "stdout",
     "output_type": "stream",
     "text": [
      "Train set avg accuracy: 0.9965\n"
     ]
    }
   ],
   "source": [
    "clf_lr_cv = train_lr_model(X_train_cv, prepared_data.y_train)"
   ]
  },
  {
   "cell_type": "code",
   "execution_count": 54,
   "metadata": {},
   "outputs": [
    {
     "data": {
      "text/plain": [
       "0.802"
      ]
     },
     "execution_count": 54,
     "metadata": {},
     "output_type": "execute_result"
    }
   ],
   "source": [
    "clf_lr_cv.score(X_test_cv, prepared_data.y_test)"
   ]
  },
  {
   "cell_type": "code",
   "execution_count": 55,
   "metadata": {
    "scrolled": false
   },
   "outputs": [
    {
     "name": "stdout",
     "output_type": "stream",
     "text": [
      "Features with top weights:\n"
     ]
    },
    {
     "data": {
      "text/plain": [
       "[('great', 2.386955648743655),\n",
       " ('bad', -2.2441468748241875),\n",
       " ('love', 1.9998628437040415),\n",
       " ('not', -1.7033877121994845),\n",
       " ('amaz', 1.6251734681006722),\n",
       " ('delici', 1.618607600846048),\n",
       " ('good', 1.5948950532388542),\n",
       " ('aw', -1.5405921177589685),\n",
       " ('suck', -1.4857572317039445),\n",
       " ('be disappoint', 1.4538172608130169)]"
      ]
     },
     "execution_count": 55,
     "metadata": {},
     "output_type": "execute_result"
    }
   ],
   "source": [
    "print('Features with top weights:')\n",
    "sorted(list(zip(bigram_vectorizer.get_feature_names(), clf_lr_cv.coef_[0])), key=lambda x: -abs(x[1]))[:10]"
   ]
  },
  {
   "cell_type": "code",
   "execution_count": 56,
   "metadata": {},
   "outputs": [
    {
     "name": "stdout",
     "output_type": "stream",
     "text": [
      "Confusion Matrix:\n",
      " [[398 102]\n",
      " [ 96 404]]\n",
      "Accuracy: 0.802\n",
      "Precision: 0.7984189723320159\n",
      "Recall: 0.808\n"
     ]
    },
    {
     "data": {
      "image/png": "[encoded data removed]",
      "text/plain": [
       "<Figure size 432x288 with 2 Axes>"
      ]
     },
     "metadata": {
      "needs_background": "light"
     },
     "output_type": "display_data"
    }
   ],
   "source": [
    "y_predict_cv = clf_lr_cv.predict(X_test_cv)\n",
    "evaluate_model(prepared_data.y_test, y_predict_cv)"
   ]
  },
  {
   "cell_type": "markdown",
   "metadata": {},
   "source": [
    "##### 6a Customise the CountVectorizer"
   ]
  },
  {
   "cell_type": "code",
   "execution_count": 402,
   "metadata": {},
   "outputs": [],
   "source": [
    "class StemAnalyzer:\n",
    "    def __init__(self, ngram, stop_words):\n",
    "        self.stemmer = SnowballStemmer(language='english')\n",
    "        self.ngram = ngram\n",
    "        self.stop_words = stop_words\n",
    "        self.stop_pos = {'PUNCT', 'SPACE', 'SYM', 'X'}\n",
    "    \n",
    "    def __call__(self, row):\n",
    "        stem_tokens = [\n",
    "            self.stemmer.stem(t.text) \n",
    "            for t in row.tokens \n",
    "            if t.pos_ not in self.stop_pos and t.text.lower() not in self.stop_words\n",
    "        ]\n",
    "        \n",
    "        return [';;'.join(sorted(t)) for i in range(1, self.ngram+1) for t in ngrams(stem_tokens, i)]"
   ]
  },
  {
   "cell_type": "code",
   "execution_count": 466,
   "metadata": {},
   "outputs": [],
   "source": [
    "stop_words = {\n",
    "    'i', 'me', 'my', 'myself', 'we', 'our', 'ours', 'ourselves', 'you', 'your', 'yours', 'yourself', \n",
    "    'yourselves', 'he', 'him', 'his', 'himself', 'she', 'her', 'hers', 'herself', 'it', 'its', 'itself', \n",
    "    'they', 'them', 'their', 'theirs', 'themselves', 'what', 'which', 'who', 'whom', 'this', 'that', \n",
    "    'these', 'those', 'am', 'a', 'an', '-', 'shrimp-', ' ', 'at', 'be', \"'s\", \"'\", 'and', '&', 'about', \n",
    "    'the', 'of', 'or', 'as', 'to', 'in', 'was', 'is', 'movie', 'art', 'film', 'for', 'were', 'from'\n",
    "}\n",
    "custom_vectorizer = CountVectorizer(analyzer=StemAnalyzer(2, stop_words))"
   ]
  },
  {
   "cell_type": "code",
   "execution_count": 467,
   "metadata": {},
   "outputs": [],
   "source": [
    "X_train_ccv = custom_vectorizer.fit_transform(train_set)\n",
    "X_test_ccv = custom_vectorizer.transform(test_set)"
   ]
  },
  {
   "cell_type": "code",
   "execution_count": 468,
   "metadata": {},
   "outputs": [
    {
     "name": "stdout",
     "output_type": "stream",
     "text": [
      "Train set avg accuracy: 0.996\n"
     ]
    }
   ],
   "source": [
    "clf_lr_ccv = train_lr_model(X_train_ccv, prepared_data.y_train)"
   ]
  },
  {
   "cell_type": "code",
   "execution_count": 469,
   "metadata": {},
   "outputs": [
    {
     "data": {
      "text/plain": [
       "0.807"
      ]
     },
     "execution_count": 469,
     "metadata": {},
     "output_type": "execute_result"
    }
   ],
   "source": [
    "clf_lr_ccv.score(X_test_ccv, prepared_data.y_test)"
   ]
  },
  {
   "cell_type": "code",
   "execution_count": 470,
   "metadata": {
    "scrolled": false
   },
   "outputs": [
    {
     "name": "stdout",
     "output_type": "stream",
     "text": [
      "Features with top weights:\n"
     ]
    },
    {
     "data": {
      "text/plain": [
       "[('great', 2.490468873013064),\n",
       " ('bad', -2.279815180231225),\n",
       " ('love', 2.163523583542924),\n",
       " ('not', -1.702582546938507),\n",
       " ('delici', 1.698988324692225),\n",
       " ('amaz', 1.6934102676080276),\n",
       " ('worst', -1.6678148859773378),\n",
       " ('good', 1.6243954545663102),\n",
       " ('aw', -1.5853094985959384),\n",
       " ('excel', 1.5466010086943982)]"
      ]
     },
     "execution_count": 470,
     "metadata": {},
     "output_type": "execute_result"
    }
   ],
   "source": [
    "print('Features with top weights:')\n",
    "sorted(list(zip(custom_vectorizer.get_feature_names(), clf_lr_ccv.coef_[0])), key=lambda x: -abs(x[1]))[:10]"
   ]
  },
  {
   "cell_type": "code",
   "execution_count": 471,
   "metadata": {},
   "outputs": [
    {
     "name": "stdout",
     "output_type": "stream",
     "text": [
      "Confusion Matrix:\n",
      " [[401  99]\n",
      " [ 94 406]]\n",
      "Accuracy: 0.807\n",
      "Precision: 0.803960396039604\n",
      "Recall: 0.812\n"
     ]
    },
    {
     "data": {
      "image/png": "[encoded data removed]",
      "text/plain": [
       "<Figure size 432x288 with 2 Axes>"
      ]
     },
     "metadata": {
      "needs_background": "light"
     },
     "output_type": "display_data"
    }
   ],
   "source": [
    "y_predict_ccv = clf_lr_ccv.predict(X_test_ccv)\n",
    "evaluate_model(prepared_data.y_test, y_predict_ccv)"
   ]
  },
  {
   "cell_type": "code",
   "execution_count": 473,
   "metadata": {},
   "outputs": [
    {
     "name": "stdout",
     "output_type": "stream",
     "text": [
      "Sentence(sentence='Buy it, play it, enjoy it, love it.  ', label=1, tokens=Buy it, play it, enjoy it, love it.  )\n"
     ]
    },
    {
     "data": {
      "text/plain": [
       "[('buy', 1),\n",
       " ('buy;;play', 1),\n",
       " ('enjoy', 1),\n",
       " ('enjoy;;love', 1),\n",
       " ('enjoy;;play', 1),\n",
       " ('love', 1),\n",
       " ('play', 1)]"
      ]
     },
     "execution_count": 473,
     "metadata": {},
     "output_type": "execute_result"
    }
   ],
   "source": [
    "k = 37\n",
    "print(train_set[k])\n",
    "list(filter(lambda x: x[1] != 0, zip(custom_vectorizer.get_feature_names(), X_train_ccv[k].toarray()[0])))"
   ]
  },
  {
   "cell_type": "code",
   "execution_count": null,
   "metadata": {},
   "outputs": [],
   "source": []
  }
 ],
 "metadata": {
  "kernelspec": {
   "display_name": "Python 3 (ipykernel)",
   "language": "python",
   "name": "python3"
  },
  "language_info": {
   "codemirror_mode": {
    "name": "ipython",
    "version": 3
   },
   "file_extension": ".py",
   "mimetype": "text/x-python",
   "name": "python",
   "nbconvert_exporter": "python",
   "pygments_lexer": "ipython3",
   "version": "3.8.7"
  }
 },
 "nbformat": 4,
 "nbformat_minor": 4
}
