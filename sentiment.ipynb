{
 "cells": [
  {
   "cell_type": "markdown",
   "metadata": {
    "_cell_guid": "88051c3d-4a44-4ec6-8adb-c1d38653e94d",
    "_uuid": "71fff663eb9075c63db6ddd0904379ffbcdcad20"
   },
   "source": [
    "# Machine Learning Challenge\n",
    "\n",
    "## Overview\n",
    "\n",
    "The focus of this exercise is on a field within machine learning called [Natural Language Processing](https://en.wikipedia.org/wiki/Natural-language_processing). We can think of this field as the intersection between language, and machine learning. Tasks in this field include automatic translation (Google translate), intelligent personal assistants (Siri), information extraction, and speech recognition for example.\n",
    "\n",
    "NLP uses many of the same techniques as traditional data science, but also features a number of specialised skills and approaches. There is no expectation that you have any experience with NLP, however, to complete the challenge it will be useful to have the following skills:\n",
    "\n",
    "- understanding of the python programming language\n",
    "- understanding of basic machine learning concepts, i.e. supervised learning\n",
    "\n",
    "\n",
    "### Instructions\n",
    "\n",
    "1. Download this notebook!\n",
    "2. Answer each of the provided questions, including your source code as cells in this notebook.\n",
    "3. Share the results with us, e.g. a Github repo.\n",
    "\n",
    "### Task description\n",
    "\n",
    "You will be performing a task known as [sentiment analysis](https://en.wikipedia.org/wiki/Sentiment_analysis). Here, the goal is to predict sentiment -- the emotional intent behind a statement -- from text. For example, the sentence: \"*This movie was terrible!\"* has a negative sentiment, whereas \"*loved this cinematic masterpiece*\" has a positive sentiment.\n",
    "\n",
    "To simplify the task, we consider sentiment binary: labels of `1` indicate a sentence has a positive sentiment, and labels of `0` indicate that the sentence has a negative sentiment.\n",
    "\n",
    "### Dataset\n",
    "\n",
    "The dataset is split across three files, representing three different sources -- Amazon, Yelp and IMDB. Your task is to build a sentiment analysis model using both the Yelp and IMDB data as your training-set, and test the performance of your model on the Amazon data.\n",
    "\n",
    "Each file can be found in the `input` directory, and contains 1000 rows of data. Each row contains a sentence, a `tab` character and then a label -- `0` or `1`. \n",
    "\n",
    "**Notes**\n",
    "- Feel free to use existing machine learning libraries as components in you solution!\n",
    "- Suggested libraries: `sklearn` (for machine learning), `pandas` (for loading/processing data), `spacy` (for text processing).\n",
    "- As mentioned, you are not expected to have previous experience with this exact task. You are free to refer to external tutorials/resources to assist you. However, you will be asked to justfify the choices you have made -- so make you understand the approach you have taken."
   ]
  },
  {
   "cell_type": "code",
   "execution_count": 1,
   "metadata": {
    "_cell_guid": "b1076dfc-b9ad-4769-8c92-a6c4dae69d19",
    "_uuid": "8f2839f25d086af736a60e9eeb907d3b93b6e0e5"
   },
   "outputs": [
    {
     "name": "stdout",
     "output_type": "stream",
     "text": [
      "['amazon_cells_labelled.txt', 'yelp_labelled.txt', 'imdb_labelled.txt']\n"
     ]
    }
   ],
   "source": [
    "import os\n",
    "print(os.listdir(\"./input\"))"
   ]
  },
  {
   "cell_type": "code",
   "execution_count": 2,
   "metadata": {
    "_cell_guid": "79c7e3d0-c299-4dcb-8224-4455121ee9b0",
    "_uuid": "d629ff2d2480ee46fbb7e2d37f6b5fab8052498a",
    "scrolled": true
   },
   "outputs": [
    {
     "name": "stdout",
     "output_type": "stream",
     "text": [
      "So there is no way for me to plug it in here in the US unless I go by a converter.\t0\r\n",
      "Good case, Excellent value.\t1\r\n",
      "Great for the jawbone.\t1\r\n",
      "Tied to charger for conversations lasting more than 45 minutes.MAJOR PROBLEMS!!\t0\r\n",
      "The mic is great.\t1\r\n",
      "I have to jiggle the plug to get it to line up right to get decent volume.\t0\r\n",
      "If you have several dozen or several hundred contacts, then imagine the fun of sending each of them one by one.\t0\r\n",
      "If you are Razr owner...you must have this!\t1\r\n",
      "Needless to say, I wasted my money.\t0\r\n",
      "What a waste of money and time!.\t0\r\n"
     ]
    }
   ],
   "source": [
    "!head \"./input/amazon_cells_labelled.txt\""
   ]
  },
  {
   "cell_type": "markdown",
   "metadata": {
    "_cell_guid": "387106cd-e89a-462f-b204-a91a73d12137",
    "_uuid": "cbd1a4b1d16ce7db6def7b3b393b48618d7e4777"
   },
   "source": [
    "# Tasks\n",
    "### 1. Read and concatenate data into test and train sets.\n",
    "### 2. Prepare the data for input into your model."
   ]
  },
  {
   "cell_type": "markdown",
   "metadata": {},
   "source": [
    "**install libraries**\n",
    "\n",
    "```shell\n",
    "!pip install spacy\n",
    "!python -m spacy download en_core_web_sm\n",
    "!python -m spacy download en_core_web_lg\n",
    "!pip install nltk\n",
    "!pip install sklearn\n",
    "!pip install seaborn\n",
    "```"
   ]
  },
  {
   "cell_type": "code",
   "execution_count": 3,
   "metadata": {},
   "outputs": [],
   "source": [
    "import json\n",
    "import spacy\n",
    "from spacy.tokens.token import Token\n",
    "from nltk import ngrams\n",
    "from dataclasses import dataclass\n",
    "from typing import List, Dict, Union"
   ]
  },
  {
   "cell_type": "code",
   "execution_count": 4,
   "metadata": {},
   "outputs": [],
   "source": [
    "nlp = spacy.load(\"en_core_web_lg\")"
   ]
  },
  {
   "cell_type": "code",
   "execution_count": 5,
   "metadata": {},
   "outputs": [],
   "source": [
    "@dataclass\n",
    "class Sentence:\n",
    "    sentence: str\n",
    "    label: int\n",
    "    tokens: List[Token]"
   ]
  },
  {
   "cell_type": "code",
   "execution_count": 6,
   "metadata": {},
   "outputs": [],
   "source": [
    "def parse_line(line: str):\n",
    "    sentence, label = line.strip().split('\\t')\n",
    "    label = int(label)\n",
    "    tokens = nlp(sentence)\n",
    "    return Sentence(sentence, label, tokens)\n",
    "\n",
    "\n",
    "def load_sentiment_data(*files: str):\n",
    "    data = (\n",
    "        parse_line(line)\n",
    "        for f in files \n",
    "        for line in open(f, 'r')\n",
    "    )\n",
    "    return data"
   ]
  },
  {
   "cell_type": "markdown",
   "metadata": {},
   "source": [
    "**Load train set and test set, for only 1000 records in each file, just load to memory**"
   ]
  },
  {
   "cell_type": "code",
   "execution_count": 7,
   "metadata": {},
   "outputs": [],
   "source": [
    "train_set = list(load_sentiment_data('input/imdb_labelled.txt', 'input/yelp_labelled.txt'))\n",
    "test_set = list(load_sentiment_data('input/amazon_cells_labelled.txt'))"
   ]
  },
  {
   "cell_type": "markdown",
   "metadata": {},
   "source": [
    "*To get all tag of spacy*\n",
    "\n",
    "for label in nlp.get_pipe(\"tagger\").labels:\n",
    "    print(label, \" -- \", spacy.explain(label))\n",
    "    \n",
    "*To get all dep of spacy*\n",
    "\n",
    "for label in nlp.get_pipe(\"parser\").labels:\n",
    "    print(label, \" -- \", spacy.explain(label))"
   ]
  },
  {
   "cell_type": "markdown",
   "metadata": {
    "_cell_guid": "a8240a39-7002-435b-ba45-ac859d209f7f",
    "_uuid": "69c6d7ea240a191abfaaf00574f09521944387d7"
   },
   "source": [
    "#### 2a: Find the ten most frequent words in the training set."
   ]
  },
  {
   "cell_type": "markdown",
   "metadata": {},
   "source": [
    "*Wordcount by tag and dep, and then show top 20 for each of the dep/tag*"
   ]
  },
  {
   "cell_type": "code",
   "execution_count": 8,
   "metadata": {},
   "outputs": [],
   "source": [
    "def wordcount(dataset):\n",
    "    tag_counter = {}\n",
    "    dep_counter = {}\n",
    "    text_counter = {}\n",
    "\n",
    "    for row in dataset:\n",
    "        for token in row.tokens:\n",
    "            text = token.text.lower()\n",
    "            dep = token.dep_\n",
    "            tag = token.tag_\n",
    "            lemma = token.lemma_\n",
    "            tag_counter.setdefault(tag, {})[lemma] = tag_counter.get(tag, {}).get(lemma, 0) + 1\n",
    "            dep_counter.setdefault(dep, {})[lemma] = dep_counter.get(dep, {}).get(lemma, 0) + 1\n",
    "            text_counter[text] = text_counter.get(text, 0) + 1\n",
    "    \n",
    "    return tag_counter, dep_counter, text_counter"
   ]
  },
  {
   "cell_type": "code",
   "execution_count": 9,
   "metadata": {},
   "outputs": [],
   "source": [
    "wordcount_tag, wordcount_dep, wordcount_text = wordcount(train_set)"
   ]
  },
  {
   "cell_type": "code",
   "execution_count": 10,
   "metadata": {},
   "outputs": [
    {
     "name": "stdout",
     "output_type": "stream",
     "text": [
      "Top 20 most frequent words:\n"
     ]
    },
    {
     "data": {
      "text/plain": [
       "[('.', 1731),\n",
       " ('the', 1432),\n",
       " (',', 1012),\n",
       " (' ', 1000),\n",
       " ('and', 826),\n",
       " ('a', 669),\n",
       " ('i', 659),\n",
       " ('is', 517),\n",
       " ('of', 504),\n",
       " ('was', 501),\n",
       " ('it', 476),\n",
       " ('to', 473),\n",
       " ('this', 434),\n",
       " ('!', 333),\n",
       " ('in', 312),\n",
       " ('that', 235),\n",
       " ('for', 215),\n",
       " (\"'s\", 200),\n",
       " (\"n't\", 199),\n",
       " ('not', 193)]"
      ]
     },
     "execution_count": 10,
     "metadata": {},
     "output_type": "execute_result"
    }
   ],
   "source": [
    "print('Top 20 most frequent words:')\n",
    "sorted(wordcount_text.items(), key=lambda x: x[1], reverse=True)[:20]"
   ]
  },
  {
   "cell_type": "markdown",
   "metadata": {},
   "source": [
    "#**Print wordcount for each of the tag and dep**\n",
    "\n",
    "```python\n",
    "print('Top frequent words for each tag_:')\n",
    "for tag, counts in wordcount_tag.items():\n",
    "    print(tag, '>>', sorted(counts.items(), key=lambda x: -x[1])[:40])\n",
    "```\n",
    "\n",
    "```python\n",
    "print('Top frequent words for each dep_:')\n",
    "for dep, counts in wordcount_dep.items():\n",
    "    print(dep, '>>', sorted(counts.items(), key=lambda x: -x[1])[:40])\n",
    "```"
   ]
  },
  {
   "cell_type": "code",
   "execution_count": 11,
   "metadata": {},
   "outputs": [],
   "source": [
    "# Review the tags, deps manually and select following tags and deps, and stopwords\n",
    "# tags and deps not in the follwoing whitelist won't be considered, e.g. most Noun and Verb won't be considered\n",
    "\n",
    "all_tags = {\n",
    "    'RB', 'VBG', 'JJ', 'IN', 'WP', 'VBD', 'RBR', 'VBN', 'RP', 'VB', 'JJS', 'WRB', 'VBZ', 'WDT', \n",
    "    'VBP', 'MD', 'RBS', 'JJR', 'UH', 'EX', 'PDT', 'DT', 'CC'\n",
    "}\n",
    "\n",
    "all_deps = {'det', 'advmod', 'amod', 'ROOT', 'prep', 'neg', 'ccomp', 'acomp', 'attr', 'cc', 'conj', \n",
    "            'prt', 'mark', 'dep', 'aux', 'relcl', 'acl', 'intj', 'preconj', 'predet', 'csubj', 'pcomp', 'oprd'}\n",
    "\n",
    "stopwords = {\n",
    "    '-', 'be', 'the', 'and', 'of', 'a', 'have', 'in', 'this', \n",
    "    'for', 'that', 'do', 'with', 'to', 'as', 'on', 'at', 'by', \n",
    "    'from', 'about', 'an', 'here', 'movie', 'film', 'food', 'place',\n",
    "    'service', 'eat', 'restaurant', '&', 'music', 'pizza', 'lunch', ' ',\n",
    "    'shrimp-', 'so', 'go', 'there', 'which', 'who', 'or'\n",
    "}"
   ]
  },
  {
   "cell_type": "markdown",
   "metadata": {},
   "source": [
    "### 3. Train your model and justify your choices."
   ]
  },
  {
   "cell_type": "markdown",
   "metadata": {},
   "source": [
    "#### 3a: Generate features, use single word and n-gram in the above `all_tags`/`all_deps` list and `stopwords`"
   ]
  },
  {
   "cell_type": "code",
   "execution_count": 12,
   "metadata": {},
   "outputs": [],
   "source": [
    "def as_feature(tokens: List[Token]):\n",
    "    feature = []\n",
    "    for tok in tokens:\n",
    "        if (tok.lemma_ not in stopwords and (tok.tag_ in all_tags or tok.dep_ in all_deps)):\n",
    "            feature.append(tok.lemma_)\n",
    "    if feature:\n",
    "        return ';;'.join(sorted(feature))\n",
    "    return None\n",
    "\n",
    "\n",
    "def feature_generator(n_gram):\n",
    "    def generate_features(tokens: List[Token]):\n",
    "        features = set()\n",
    "        for i in range(1, n_gram+1):\n",
    "            for words in ngrams(tokens, i):\n",
    "                feature = as_feature(words)\n",
    "                if feature is not None:\n",
    "                    features.add(feature)\n",
    "        return features\n",
    "    \n",
    "    return generate_features\n",
    "\n",
    "@dataclass\n",
    "class FeatureAttr:\n",
    "    value: str\n",
    "    count: int\n",
    "    index: int\n",
    "\n",
    "def generate_feature_lookup(dataset, feature_generator_func) -> Dict[str, FeatureAttr]:\n",
    "    \"\"\"\n",
    "    feature_generator_func: n-gram feature generation function, calling `feature_generator` \n",
    "    with n_gram to generate the generator functions with n-gram features.\n",
    "    \n",
    "    Generate FeatureAttr\n",
    "    \"\"\"\n",
    "    feature_dict = {}\n",
    "    for row in dataset:\n",
    "        for feature in feature_generator_func(row.tokens):\n",
    "            feature_dict[feature] = feature_dict.get(feature, 0) + 1\n",
    "            \n",
    "    lookup_dict = {}\n",
    "    for index, kv in enumerate(feature_dict.items()):\n",
    "        key = kv[0]\n",
    "        value = kv[1]\n",
    "        lookup_dict[key] = FeatureAttr(key, value, index)\n",
    "        \n",
    "    return lookup_dict"
   ]
  },
  {
   "cell_type": "markdown",
   "metadata": {},
   "source": [
    "##### Generate n-dimension traning vector"
   ]
  },
  {
   "cell_type": "code",
   "execution_count": 13,
   "metadata": {},
   "outputs": [],
   "source": [
    "def features2vector(tokens: List[Token], feature_lookup: Dict[str, FeatureAttr], feature_generator_func, by_count=False):\n",
    "    num_features = len(feature_lookup)\n",
    "    row_array = [0 for _ in range(num_features)]\n",
    "    for feature in feature_generator_func(tokens):\n",
    "        if feature in feature_lookup:\n",
    "            if by_count:\n",
    "                # use the occurance of the token in this document as the feature\n",
    "                row_array[feature_lookup[feature].index] += 1\n",
    "            else:\n",
    "                row_array[feature_lookup[feature].index] = 1\n",
    "    return row_array"
   ]
  },
  {
   "cell_type": "code",
   "execution_count": 14,
   "metadata": {},
   "outputs": [],
   "source": [
    "def to_X(dataset, feature_lookup, feature_generator_func, by_count=False):\n",
    "    return [\n",
    "        features2vector(row.tokens, feature_lookup, feature_generator_func, by_count)\n",
    "        for row in dataset\n",
    "    ]\n",
    "\n",
    "def to_y(dataset):\n",
    "    return [row.label for row in dataset]"
   ]
  },
  {
   "cell_type": "code",
   "execution_count": 15,
   "metadata": {},
   "outputs": [],
   "source": [
    "from sklearn import metrics\n",
    "import seaborn\n",
    "from matplotlib import pyplot as plt"
   ]
  },
  {
   "cell_type": "code",
   "execution_count": 16,
   "metadata": {},
   "outputs": [],
   "source": [
    "def evaluate_model(y_label, y_predict):\n",
    "    conf_matrix = metrics.confusion_matrix(y_label, y_predict)\n",
    "    \n",
    "    print('Confusion Matrix:\\n', conf_matrix)\n",
    "    seaborn.heatmap(conf_matrix, annot=True, fmt='g')\n",
    "    plt.xlabel('Predicted')\n",
    "    plt.ylabel('Labeled')\n",
    "    \n",
    "    print('Accuracy:', metrics.accuracy_score(y_label, y_predict))\n",
    "    print('Precision:', metrics.precision_score(y_label, y_predict))\n",
    "    print('Recall:', metrics.recall_score(y_label, y_predict))"
   ]
  },
  {
   "cell_type": "code",
   "execution_count": 17,
   "metadata": {},
   "outputs": [],
   "source": [
    "@dataclass\n",
    "class PreparedData:\n",
    "    feature_lookup: Dict[str, FeatureAttr]\n",
    "    X_train: List[List[Union[int, float]]]\n",
    "    y_train: List[Union[int, float]]\n",
    "    X_test: List[List[Union[int, float]]]\n",
    "    y_test: List[Union[int, float]]"
   ]
  },
  {
   "cell_type": "code",
   "execution_count": 18,
   "metadata": {},
   "outputs": [],
   "source": [
    "def generate_all_datasets(dataset_train, dataset_test, n_gram, by_count):\n",
    "    \"\"\"\n",
    "    Generate all required datasets for traning and evaluation for given parameters:\n",
    "        - feature_lookup containing map of feature and idnex, and map of feature and its wordcount (for all sample data)\n",
    "        - train X, y\n",
    "        - test X, y\n",
    "    \"\"\"\n",
    "    \n",
    "    print(f'n-gram is {n_gram}')\n",
    "\n",
    "    feature_generator_func = feature_generator(n_gram)\n",
    "    feature_lookup = generate_feature_lookup(dataset_train, feature_generator_func)\n",
    "\n",
    "    X_train = to_X(dataset_train, feature_lookup, feature_generator_func=feature_generator_func, by_count=by_count)\n",
    "    y_train = to_y(dataset_train)\n",
    "    \n",
    "    X_test = to_X(dataset_test, feature_lookup, feature_generator_func=feature_generator_func, by_count=by_count)\n",
    "    y_test = to_y(dataset_test)\n",
    "    \n",
    "    return PreparedData(\n",
    "        feature_lookup=feature_lookup,\n",
    "        X_train=X_train,\n",
    "        y_train=y_train,\n",
    "        X_test=X_test,\n",
    "        y_test=y_test\n",
    "    )"
   ]
  },
  {
   "cell_type": "code",
   "execution_count": 19,
   "metadata": {},
   "outputs": [],
   "source": [
    "def print_feature_vector(sentence, vector, feature_lookup):\n",
    "    feature_view = [(x[0][0], x[1]) for x in \n",
    "                  zip(\n",
    "                      sorted(feature_lookup.items(), key=lambda x: x[1].index),\n",
    "                      vector\n",
    "                  ) \n",
    "                  if x[1] != 0]\n",
    "    print('original comment:', sentence)\n",
    "    print('features of the first sample:', feature_view)\n",
    "    \n",
    "\n",
    "def print_feature(row: Sentence, feature_lookup: Dict[str, FeatureAttr], feature_generator_func, by_count):\n",
    "    vector = features2vector(row.tokens, feature_lookup, feature_generator_func, by_count)\n",
    "    print_feature_vector(row.sentence, vector, feature_lookup)\n",
    "    \n",
    "def print_feature_by_X(dataset, X, k, feature_lookup):\n",
    "    print_feature_vector(dataset[k].sentence, X[k], feature_lookup)"
   ]
  },
  {
   "cell_type": "markdown",
   "metadata": {},
   "source": [
    "#### Generate features with n-gram is 5"
   ]
  },
  {
   "cell_type": "code",
   "execution_count": 20,
   "metadata": {},
   "outputs": [
    {
     "name": "stdout",
     "output_type": "stream",
     "text": [
      "n-gram is 5\n"
     ]
    }
   ],
   "source": [
    "prepared_data = generate_all_datasets(train_set, test_set, 5, False)"
   ]
  },
  {
   "cell_type": "code",
   "execution_count": 21,
   "metadata": {},
   "outputs": [
    {
     "name": "stdout",
     "output_type": "stream",
     "text": [
      "original comment: Attempting artiness with black & white and clever camera angles, the movie disappointed - became even more ridiculous - as the acting was poor and the plot and lines almost non-existent.  \n",
      "features of the first sample: [('more', 1), ('attempt', 1), ('almost;;non', 1), ('poor', 1), ('ridiculous', 1), ('more;;ridiculous', 1), ('almost;;line;;non', 1), ('existent;;non', 1), ('become;;even;;more', 1), ('attempt;;black', 1), ('even', 1), ('become;;disappoint;;even', 1), ('clever;;white', 1), ('even;;more', 1), ('line;;plot', 1), ('non', 1), ('become;;even;;more;;ridiculous', 1), ('plot', 1), ('plot;;poor', 1), ('become;;disappoint', 1), ('even;;more;;ridiculous', 1), ('almost;;line;;plot', 1), ('clever', 1), ('almost;;line', 1), ('become', 1), ('existent', 1), ('white', 1), ('disappoint', 1), ('line', 1), ('almost', 1), ('become;;even', 1), ('almost;;existent;;non', 1), ('black;;white', 1), ('black', 1)]\n"
     ]
    }
   ],
   "source": [
    "print_feature(train_set[2], prepared_data.feature_lookup, feature_generator(4), False)"
   ]
  },
  {
   "cell_type": "markdown",
   "metadata": {},
   "source": [
    "**A view of the features**"
   ]
  },
  {
   "cell_type": "code",
   "execution_count": 22,
   "metadata": {},
   "outputs": [
    {
     "name": "stdout",
     "output_type": "stream",
     "text": [
      "Top 20: [('good', 189), (\"n't\", 188), ('not', 184), ('but', 154), ('very', 128), ('bad', 111), ('great', 104), ('like', 103), ('all', 98), ('just', 97), ('see', 85), ('well', 80), ('make', 78), ('really', 74), ('if', 73), ('get', 67), ('out', 66), ('back', 65), ('even', 59), ('would', 59)] \n",
      "\n",
      "Mid: [('along;;very;;well', 1), ('joy;;real', 1), ('along;;help;;very', 1), ('could;;play;;well', 1), ('along;;very', 1), ('idiot', 1), ('maybe;;well', 1), ('idiot;;maybe', 1), ('along;;help', 1), ('could;;play', 1), ('along;;maybe;;very;;well', 1), ('idiot;;maybe;;well', 1), ('could;;idiot', 1), ('maybe;;very;;well', 1), (\"cinematography;;n't;;quite\", 1), (\"cinematography;;n't\", 1), (\"n't;;quite\", 1), (\"good;;n't;;quite\", 1), ('boring;;sometimes', 1), ('find;;sometimes', 1), ('occupy;;peak', 1), ('find;;occupy;;sometimes', 1), ('happen;;never;;watch', 1), ('during;;happen', 1), ('instead;;never;;watch', 1), ('find;;occupy', 1), ('never;;watch', 1), ('instead;;peak', 1), ('peak', 1), ('find;;occupy;;peak;;sometimes', 1), ('during;;happen;;never;;watch', 1), ('find;;occupy;;peak', 1), ('happen;;never', 1), ('instead;;watch', 1), ('during;;happen;;never', 1), ('before;;during', 1), ('embarrassing;;sometimes', 1), ('away;;look', 1), ('seem;;too', 1), ('pretentious;;too', 1)] \n",
      "\n",
      "Last 20: [('should;;texture', 1), ('texture', 1), ('both;;lack', 1), ('instantly', 1), ('impressed;;not;;would', 1), ('not;;overall', 1), ('impressed;;not;;overall', 1), ('impressed;;not;;not;;would', 1), ('impressed;;would', 1), (\"'ll;;just\", 1), ('underwhelming;;whole', 1), (\"'ll;;just;;think\", 1), ('think;;underwhelming', 1), ('bring;;take', 1), ('enough;;waste', 1), ('if;;then', 1), (\"enough;;n't;;waste\", 1), ('pour', 1), (\"if;;n't;;waste\", 1), ('draw;;out', 1)]\n",
      "Feature dimension with n-gram (n is [1, 5]): 11789\n"
     ]
    }
   ],
   "source": [
    "feature_dict_desc = [(x[0], x[1].count) for x in sorted(prepared_data.feature_lookup.items(), key=lambda x: -x[1].count)]\n",
    "print('Top 20:', feature_dict_desc[:20], '\\n\\nMid:', feature_dict_desc[2200:2240], '\\n\\nLast 20:', feature_dict_desc[-20:])\n",
    "print(f'Feature dimension with n-gram (n is [1, 5]):', len(feature_dict_desc))"
   ]
  },
  {
   "cell_type": "markdown",
   "metadata": {},
   "source": [
    "##### Train a model with LogisticRegression (solver=lbfgs) algorithm"
   ]
  },
  {
   "cell_type": "code",
   "execution_count": 23,
   "metadata": {},
   "outputs": [],
   "source": [
    "from sklearn.linear_model import LogisticRegression"
   ]
  },
  {
   "cell_type": "code",
   "execution_count": 24,
   "metadata": {},
   "outputs": [],
   "source": [
    "def save_lr_model(lr_model, feature_lookup, path):\n",
    "    model = {\n",
    "        'intercept': lr_model.intercept_[0],\n",
    "        'coefficients': list(zip(map(lambda x: x[0], sorted(feature_lookup.items(), key=lambda x: x[1].index)), lr_model.coef_.tolist()[0]))\n",
    "    }\n",
    "    json.dump(model, open(path, 'w'), indent=2)"
   ]
  },
  {
   "cell_type": "code",
   "execution_count": 25,
   "metadata": {},
   "outputs": [],
   "source": [
    "def train_lr_model(X, y):\n",
    "    model = LogisticRegression(solver='lbfgs').fit(X, y)\n",
    "    print('Train set avg accuracy:', model.score(X, y))\n",
    "\n",
    "    return model"
   ]
  },
  {
   "cell_type": "code",
   "execution_count": 26,
   "metadata": {},
   "outputs": [
    {
     "name": "stdout",
     "output_type": "stream",
     "text": [
      "Train set avg accuracy: 0.992\n"
     ]
    }
   ],
   "source": [
    "clf_lr = train_lr_model(prepared_data.X_train, prepared_data.y_train)"
   ]
  },
  {
   "cell_type": "markdown",
   "metadata": {},
   "source": [
    "##### save the model's coefficients/intercept for manual review"
   ]
  },
  {
   "cell_type": "code",
   "execution_count": 27,
   "metadata": {
    "scrolled": false
   },
   "outputs": [],
   "source": [
    "save_lr_model(clf_lr, prepared_data.feature_lookup, 'model_lr.json')"
   ]
  },
  {
   "cell_type": "markdown",
   "metadata": {
    "_cell_guid": "1a5840b2-c84c-42f6-9fc9-4fed64e48298",
    "_uuid": "f4eeecd64b54cc05098affe6cca4c40204af8ecf"
   },
   "source": [
    "### 4. Evaluate your model using metric(s) you see fit and justify your choices."
   ]
  },
  {
   "cell_type": "code",
   "execution_count": 28,
   "metadata": {},
   "outputs": [
    {
     "name": "stdout",
     "output_type": "stream",
     "text": [
      "Confusion Matrix:\n",
      " [[362 138]\n",
      " [ 97 403]]\n",
      "Accuracy: 0.765\n",
      "Precision: 0.744916820702403\n",
      "Recall: 0.806\n"
     ]
    },
    {
     "data": {
      "image/png": "[encoded data removed]",
      "text/plain": [
       "<Figure size 432x288 with 2 Axes>"
      ]
     },
     "metadata": {
      "needs_background": "light"
     },
     "output_type": "display_data"
    }
   ],
   "source": [
    "y_predict = clf_lr.predict(prepared_data.X_test)\n",
    "evaluate_model(prepared_data.y_test, y_predict)"
   ]
  },
  {
   "cell_type": "markdown",
   "metadata": {},
   "source": [
    "### 5. Try to improve"
   ]
  },
  {
   "cell_type": "markdown",
   "metadata": {},
   "source": [
    "##### 5a. adjust the train and test dataset"
   ]
  },
  {
   "cell_type": "markdown",
   "metadata": {},
   "source": [
    "The above train set is more about file/move, it might be a skewed dataset. Try to re-split the dataset as 80%/20%."
   ]
  },
  {
   "cell_type": "code",
   "execution_count": 29,
   "metadata": {},
   "outputs": [],
   "source": [
    "train_set_sh = train_set[:800] + train_set[1000:1800] + test_set[:800]\n",
    "test_set_sh = train_set[800:1000] + train_set[1800:] + test_set[800:]"
   ]
  },
  {
   "cell_type": "code",
   "execution_count": 30,
   "metadata": {},
   "outputs": [
    {
     "name": "stdout",
     "output_type": "stream",
     "text": [
      "Re-split the train/test set as 80%/20%: 2400/600\n"
     ]
    }
   ],
   "source": [
    "print(f'Re-split the train/test set as 80%/20%: {len(train_set_sh)}/{len(test_set_sh)}')"
   ]
  },
  {
   "cell_type": "code",
   "execution_count": 31,
   "metadata": {},
   "outputs": [
    {
     "name": "stdout",
     "output_type": "stream",
     "text": [
      "n-gram is 5\n"
     ]
    }
   ],
   "source": [
    "prepared_data_sh = generate_all_datasets(train_set_sh, test_set_sh, 5, False)"
   ]
  },
  {
   "cell_type": "code",
   "execution_count": 32,
   "metadata": {},
   "outputs": [
    {
     "name": "stdout",
     "output_type": "stream",
     "text": [
      "Train set avg accuracy: 0.9895833333333334\n"
     ]
    }
   ],
   "source": [
    "clf_lr_sh = train_lr_model(prepared_data_sh.X_train, prepared_data_sh.y_train)"
   ]
  },
  {
   "cell_type": "code",
   "execution_count": 33,
   "metadata": {},
   "outputs": [
    {
     "name": "stdout",
     "output_type": "stream",
     "text": [
      "Confusion Matrix:\n",
      " [[298  49]\n",
      " [ 55 198]]\n",
      "Accuracy: 0.8266666666666667\n",
      "Precision: 0.8016194331983806\n",
      "Recall: 0.782608695652174\n"
     ]
    },
    {
     "data": {
      "image/png": "[encoded data removed]",
      "text/plain": [
       "<Figure size 432x288 with 2 Axes>"
      ]
     },
     "metadata": {
      "needs_background": "light"
     },
     "output_type": "display_data"
    }
   ],
   "source": [
    "y_predict_sh = clf_lr_sh.predict(prepared_data_sh.X_test)\n",
    "evaluate_model(prepared_data_sh.y_test, y_predict_sh)"
   ]
  },
  {
   "cell_type": "markdown",
   "metadata": {},
   "source": [
    "##### 5b try random forest"
   ]
  },
  {
   "cell_type": "code",
   "execution_count": 34,
   "metadata": {},
   "outputs": [],
   "source": [
    "from sklearn.ensemble import RandomForestClassifier"
   ]
  },
  {
   "cell_type": "code",
   "execution_count": 35,
   "metadata": {},
   "outputs": [
    {
     "data": {
      "text/plain": [
       "RandomForestClassifier(n_estimators=300)"
      ]
     },
     "execution_count": 35,
     "metadata": {},
     "output_type": "execute_result"
    }
   ],
   "source": [
    "clf_rf = RandomForestClassifier(n_estimators=300)\n",
    "clf_rf.fit(prepared_data.X_train, prepared_data.y_train)"
   ]
  },
  {
   "cell_type": "code",
   "execution_count": 36,
   "metadata": {},
   "outputs": [
    {
     "data": {
      "text/plain": [
       "0.9995"
      ]
     },
     "execution_count": 36,
     "metadata": {},
     "output_type": "execute_result"
    }
   ],
   "source": [
    "clf_rf.score(prepared_data.X_train, prepared_data.y_train)"
   ]
  },
  {
   "cell_type": "code",
   "execution_count": 37,
   "metadata": {
    "scrolled": false
   },
   "outputs": [
    {
     "name": "stdout",
     "output_type": "stream",
     "text": [
      "Confusion Matrix:\n",
      " [[326 174]\n",
      " [ 74 426]]\n",
      "Accuracy: 0.752\n",
      "Precision: 0.71\n",
      "Recall: 0.852\n"
     ]
    },
    {
     "data": {
      "image/png": "[encoded data removed]",
      "text/plain": [
       "<Figure size 432x288 with 2 Axes>"
      ]
     },
     "metadata": {
      "needs_background": "light"
     },
     "output_type": "display_data"
    }
   ],
   "source": [
    "y_predict_rf = clf_rf.predict(prepared_data.X_test)\n",
    "evaluate_model(prepared_data.y_test, y_predict_rf)"
   ]
  },
  {
   "cell_type": "markdown",
   "metadata": {},
   "source": [
    "## Manual check (for the first Logistic Regression Model)"
   ]
  },
  {
   "cell_type": "code",
   "execution_count": 38,
   "metadata": {},
   "outputs": [],
   "source": [
    "wrong_predictions = list(filter(lambda x: x[1][0] != x[1][1], enumerate(zip(y_predict, prepared_data.y_test))))"
   ]
  },
  {
   "cell_type": "code",
   "execution_count": 39,
   "metadata": {},
   "outputs": [
    {
     "data": {
      "text/plain": [
       "[(3, (1, 0)),\n",
       " (5, (1, 0)),\n",
       " (22, (1, 0)),\n",
       " (23, (0, 1)),\n",
       " (30, (1, 0)),\n",
       " (32, (1, 0)),\n",
       " (39, (1, 0)),\n",
       " (46, (1, 0)),\n",
       " (47, (1, 0)),\n",
       " (49, (1, 0))]"
      ]
     },
     "execution_count": 39,
     "metadata": {},
     "output_type": "execute_result"
    }
   ],
   "source": [
    "wrong_predictions[:10]"
   ]
  },
  {
   "cell_type": "code",
   "execution_count": 40,
   "metadata": {
    "scrolled": false
   },
   "outputs": [
    {
     "name": "stdout",
     "output_type": "stream",
     "text": [
      "--------------------\n",
      "Predict: 1, label: 0, predict_score: [[0.45697056 0.54302944]]\n",
      "original comment: Tied to charger for conversations lasting more than 45 minutes.MAJOR PROBLEMS!!\n",
      "features of the first sample: [('more', 1), ('than', 1), ('more;;than', 1), ('last', 1), ('tie', 1), ('major', 1)]\n",
      "\n",
      "--------------------\n",
      "Predict: 1, label: 0, predict_score: [[0.34586775 0.65413225]]\n",
      "original comment: I have to jiggle the plug to get it to line up right to get decent volume.\n",
      "features of the first sample: [('line', 1), ('right', 1), ('up', 1), ('decent', 1), ('get', 1), ('get;;right;;up', 1), ('get;;right', 1)]\n",
      "\n",
      "--------------------\n",
      "Predict: 1, label: 0, predict_score: [[0.3692065 0.6307935]]\n",
      "original comment: The commercials are the most misleading.\n",
      "features of the first sample: [('most', 1)]\n",
      "\n",
      "--------------------\n",
      "Predict: 0, label: 1, predict_score: [[0.57976703 0.42023297]]\n",
      "original comment: I have yet to run this new battery below two bars and that's three days without charging.\n",
      "features of the first sample: [('run', 1), ('without', 1), ('below', 1), ('new', 1), ('yet', 1), ('charge', 1)]\n",
      "\n",
      "--------------------\n",
      "Predict: 1, label: 0, predict_score: [[0.47224879 0.52775121]]\n",
      "original comment: This is a simple little phone to use, but the breakage is unacceptible.\n",
      "features of the first sample: [('little', 1), ('but', 1), ('use', 1), ('simple', 1)]\n",
      "\n",
      "--------------------\n",
      "Predict: 1, label: 0, predict_score: [[0.45389997 0.54610003]]\n",
      "original comment: It is unusable in a moving car at freeway speed.\n",
      "features of the first sample: [('move', 1)]\n",
      "\n",
      "--------------------\n",
      "Predict: 1, label: 0, predict_score: [[0.47380351 0.52619649]]\n",
      "original comment: worthless product.\n",
      "features of the first sample: [('product', 1), ('worthless', 1)]\n",
      "\n",
      "--------------------\n",
      "Predict: 1, label: 0, predict_score: [[0.40236618 0.59763382]]\n",
      "original comment: Who in their right mind is gonna buy this battery?.\n",
      "features of the first sample: [('right', 1), ('buy', 1), ('gon', 1), ('gon;;na', 1), ('na', 1)]\n",
      "\n",
      "--------------------\n",
      "Predict: 1, label: 0, predict_score: [[0.4914742 0.5085258]]\n",
      "original comment: AFTER ARGUING WITH VERIZON REGARDING THE DROPPED CALLS WE RETURNED THE PHONES AFTER TWO DAYS.\n",
      "features of the first sample: [('after', 1), ('return', 1), ('argue', 1)]\n",
      "\n",
      "--------------------\n",
      "Predict: 1, label: 0, predict_score: [[0.275634 0.724366]]\n",
      "original comment: Disappointed with battery.\n",
      "features of the first sample: [('disappoint', 1)]\n",
      "\n",
      "--------------------\n",
      "Predict: 0, label: 1, predict_score: [[0.9366122 0.0633878]]\n",
      "original comment: good protection and does not make phone too bulky.\n",
      "features of the first sample: [('not', 1), ('good', 1), ('make', 1), ('too', 1), ('make;;not', 1), ('good;;not', 1)]\n",
      "\n",
      "--------------------\n",
      "Predict: 0, label: 1, predict_score: [[0.54029073 0.45970927]]\n",
      "original comment: A usable keyboard actually turns a PDA into a real-world useful machine instead of just a neat gadget.\n",
      "features of the first sample: [('just', 1), ('actually', 1), ('real', 1), ('into', 1), ('actually;;turn', 1), ('turn', 1), ('instead', 1), ('neat', 1)]\n",
      "\n",
      "--------------------\n",
      "Predict: 0, label: 1, predict_score: [[0.8141772 0.1858228]]\n",
      "original comment: This phone is pretty sturdy and I've never had any large problems with it.\n",
      "features of the first sample: [('any', 1), (\"'ve\", 1), ('pretty', 1), (\"'ve;;never\", 1), ('never', 1), ('large', 1)]\n",
      "\n",
      "--------------------\n",
      "Predict: 0, label: 1, predict_score: [[0.63146731 0.36853269]]\n",
      "original comment: I have been very happy with the 510 and have had NO complaints from any one regarding my sound quality on their end.\n",
      "features of the first sample: [('very', 1), ('any', 1), ('no', 1), ('sound', 1), ('happy', 1)]\n",
      "\n",
      "--------------------\n",
      "Predict: 1, label: 0, predict_score: [[0.26548064 0.73451936]]\n",
      "original comment: Essentially you can forget Microsoft's tech support.\n",
      "features of the first sample: [('can', 1), ('forget', 1)]\n",
      "\n",
      "--------------------\n",
      "Predict: 1, label: 0, predict_score: [[0.49320341 0.50679659]]\n",
      "original comment: The one big drawback of the MP3 player is that the buttons on the phone's front cover that let you pause and skip songs lock out after a few seconds.\n",
      "features of the first sample: [('out', 1), ('let', 1), ('after', 1), ('few', 1), ('big', 1), ('skip', 1), ('after;;few', 1)]\n",
      "\n",
      "--------------------\n",
      "Predict: 1, label: 0, predict_score: [[0.29527948 0.70472052]]\n",
      "original comment: A week later after I activated it, it suddenly died.\n",
      "features of the first sample: [('after', 1), ('later', 1), ('die', 1)]\n",
      "\n",
      "--------------------\n",
      "Predict: 0, label: 1, predict_score: [[0.65283872 0.34716128]]\n",
      "original comment: It feels more comfortable than most headsets because I wear glasses and that gets in the way sometimes.\n",
      "features of the first sample: [('more', 1), ('because', 1), ('most', 1), ('than', 1), ('feel', 1), ('sometimes', 1), ('get', 1), ('comfortable', 1)]\n",
      "\n",
      "--------------------\n",
      "Predict: 0, label: 1, predict_score: [[0.61154841 0.38845159]]\n",
      "original comment: Well packaged, arrived on time, and works as intended.\n",
      "features of the first sample: [('work', 1), ('well', 1), ('arrive', 1)]\n",
      "\n",
      "--------------------\n",
      "Predict: 1, label: 0, predict_score: [[0.49917547 0.50082453]]\n",
      "original comment: The battery runs down quickly.\n",
      "features of the first sample: [('run', 1), ('down', 1), ('quickly', 1)]\n",
      "\n"
     ]
    }
   ],
   "source": [
    "for index, (predict, lable) in wrong_predictions[:20]:\n",
    "    print('-' * 20)\n",
    "    print(f'Predict: {predict}, label: {lable}, predict_score: {clf_lr.predict_proba([prepared_data.X_test[index]])}')\n",
    "    print_feature_by_X(test_set, prepared_data.X_test, index, prepared_data.feature_lookup)\n",
    "    print()"
   ]
  },
  {
   "cell_type": "markdown",
   "metadata": {},
   "source": [
    "#### ada on decision tree"
   ]
  },
  {
   "cell_type": "code",
   "execution_count": 48,
   "metadata": {},
   "outputs": [],
   "source": [
    "from sklearn.model_selection import cross_val_score\n",
    "from sklearn.tree import DecisionTreeClassifier\n",
    "from sklearn.ensemble import AdaBoostClassifier"
   ]
  },
  {
   "cell_type": "code",
   "execution_count": 49,
   "metadata": {},
   "outputs": [],
   "source": [
    "clf_ada = AdaBoostClassifier(DecisionTreeClassifier(max_depth=3), n_estimators=100)"
   ]
  },
  {
   "cell_type": "code",
   "execution_count": 50,
   "metadata": {},
   "outputs": [
    {
     "data": {
      "text/plain": [
       "AdaBoostClassifier(base_estimator=DecisionTreeClassifier(max_depth=3),\n",
       "                   n_estimators=100)"
      ]
     },
     "execution_count": 50,
     "metadata": {},
     "output_type": "execute_result"
    }
   ],
   "source": [
    "clf_ada.fit(prepared_data.X_train, prepared_data.y_train)"
   ]
  },
  {
   "cell_type": "code",
   "execution_count": 51,
   "metadata": {},
   "outputs": [
    {
     "data": {
      "text/plain": [
       "0.9605"
      ]
     },
     "execution_count": 51,
     "metadata": {},
     "output_type": "execute_result"
    }
   ],
   "source": [
    "clf_ada.score(prepared_data.X_train, prepared_data.y_train)"
   ]
  },
  {
   "cell_type": "code",
   "execution_count": 52,
   "metadata": {},
   "outputs": [
    {
     "name": "stdout",
     "output_type": "stream",
     "text": [
      "Confusion Matrix:\n",
      " [[326 174]\n",
      " [ 74 426]]\n",
      "Accuracy: 0.752\n",
      "Precision: 0.71\n",
      "Recall: 0.852\n"
     ]
    },
    {
     "data": {
      "image/png": "[encoded data removed]",
      "text/plain": [
       "<Figure size 432x288 with 2 Axes>"
      ]
     },
     "metadata": {
      "needs_background": "light"
     },
     "output_type": "display_data"
    }
   ],
   "source": [
    "y_predict_ada = clf_rf.predict(prepared_data.X_test)\n",
    "evaluate_model(prepared_data.y_test, y_predict_ada)"
   ]
  },
  {
   "cell_type": "markdown",
   "metadata": {},
   "source": [
    "Refer to this: https://scikit-learn.org/0.15/auto_examples/model_selection/randomized_search.html"
   ]
  },
  {
   "cell_type": "code",
   "execution_count": 55,
   "metadata": {},
   "outputs": [],
   "source": [
    "from scipy.stats import randint as sp_randint\n",
    "from sklearn.model_selection import GridSearchCV, RandomizedSearchCV"
   ]
  },
  {
   "cell_type": "code",
   "execution_count": 59,
   "metadata": {},
   "outputs": [],
   "source": [
    "clf_rfc = RandomForestClassifier(n_estimators=100)\n",
    "# specify parameters and distributions to sample from\n",
    "param_dist = {\"max_depth\": [3, None],\n",
    "              \"max_features\": sp_randint(1, 11),\n",
    "              \"min_samples_split\": sp_randint(2, 11),\n",
    "              \"min_samples_leaf\": sp_randint(1, 11),\n",
    "              \"bootstrap\": [True, False],\n",
    "              \"criterion\": [\"gini\", \"entropy\"]}\n",
    "\n",
    "# run randomized search\n",
    "n_iter_search = 20\n",
    "random_search = RandomizedSearchCV(clf_rfc, param_distributions=param_dist, n_iter=n_iter_search)"
   ]
  },
  {
   "cell_type": "code",
   "execution_count": 60,
   "metadata": {},
   "outputs": [
    {
     "data": {
      "text/plain": [
       "RandomizedSearchCV(estimator=RandomForestClassifier(), n_iter=20,\n",
       "                   param_distributions={'bootstrap': [True, False],\n",
       "                                        'criterion': ['gini', 'entropy'],\n",
       "                                        'max_depth': [3, None],\n",
       "                                        'max_features': <scipy.stats._distn_infrastructure.rv_frozen object at 0x17de44a60>,\n",
       "                                        'min_samples_leaf': <scipy.stats._distn_infrastructure.rv_frozen object at 0x17de44d60>,\n",
       "                                        'min_samples_split': <scipy.stats._distn_infrastructure.rv_frozen object at 0x1891c2340>})"
      ]
     },
     "execution_count": 60,
     "metadata": {},
     "output_type": "execute_result"
    }
   ],
   "source": [
    "random_search.fit(prepared_data.X_train, prepared_data.y_train)"
   ]
  },
  {
   "cell_type": "code",
   "execution_count": 62,
   "metadata": {},
   "outputs": [],
   "source": [
    "y_predict_rs = random_search.predict(prepared_data.X_test)"
   ]
  },
  {
   "cell_type": "code",
   "execution_count": 64,
   "metadata": {},
   "outputs": [
    {
     "data": {
      "text/plain": [
       "0.9995"
      ]
     },
     "execution_count": 64,
     "metadata": {},
     "output_type": "execute_result"
    }
   ],
   "source": [
    "random_search.score(prepared_data.X_train, prepared_data.y_train)"
   ]
  },
  {
   "cell_type": "code",
   "execution_count": 63,
   "metadata": {},
   "outputs": [
    {
     "name": "stdout",
     "output_type": "stream",
     "text": [
      "Confusion Matrix:\n",
      " [[326 174]\n",
      " [ 90 410]]\n",
      "Accuracy: 0.736\n",
      "Precision: 0.702054794520548\n",
      "Recall: 0.82\n"
     ]
    },
    {
     "data": {
      "image/png": "[encoded data removed]",
      "text/plain": [
       "<Figure size 432x288 with 2 Axes>"
      ]
     },
     "metadata": {
      "needs_background": "light"
     },
     "output_type": "display_data"
    }
   ],
   "source": [
    "evaluate_model(prepared_data.y_test, y_predict_rs)"
   ]
  },
  {
   "cell_type": "code",
   "execution_count": null,
   "metadata": {},
   "outputs": [],
   "source": []
  }
 ],
 "metadata": {
  "kernelspec": {
   "display_name": "Python 3 (ipykernel)",
   "language": "python",
   "name": "python3"
  },
  "language_info": {
   "codemirror_mode": {
    "name": "ipython",
    "version": 3
   },
   "file_extension": ".py",
   "mimetype": "text/x-python",
   "name": "python",
   "nbconvert_exporter": "python",
   "pygments_lexer": "ipython3",
   "version": "3.8.7"
  }
 },
 "nbformat": 4,
 "nbformat_minor": 4
}
