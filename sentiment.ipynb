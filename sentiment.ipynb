{
 "cells": [
  {
   "cell_type": "markdown",
   "metadata": {
    "_cell_guid": "88051c3d-4a44-4ec6-8adb-c1d38653e94d",
    "_uuid": "71fff663eb9075c63db6ddd0904379ffbcdcad20"
   },
   "source": [
    "# Machine Learning Challenge\n",
    "\n",
    "## Overview\n",
    "\n",
    "The focus of this exercise is on a field within machine learning called [Natural Language Processing](https://en.wikipedia.org/wiki/Natural-language_processing). We can think of this field as the intersection between language, and machine learning. Tasks in this field include automatic translation (Google translate), intelligent personal assistants (Siri), information extraction, and speech recognition for example.\n",
    "\n",
    "NLP uses many of the same techniques as traditional data science, but also features a number of specialised skills and approaches. There is no expectation that you have any experience with NLP, however, to complete the challenge it will be useful to have the following skills:\n",
    "\n",
    "- understanding of the python programming language\n",
    "- understanding of basic machine learning concepts, i.e. supervised learning\n",
    "\n",
    "\n",
    "### Instructions\n",
    "\n",
    "1. Download this notebook!\n",
    "2. Answer each of the provided questions, including your source code as cells in this notebook.\n",
    "3. Share the results with us, e.g. a Github repo.\n",
    "\n",
    "### Task description\n",
    "\n",
    "You will be performing a task known as [sentiment analysis](https://en.wikipedia.org/wiki/Sentiment_analysis). Here, the goal is to predict sentiment -- the emotional intent behind a statement -- from text. For example, the sentence: \"*This movie was terrible!\"* has a negative sentiment, whereas \"*loved this cinematic masterpiece*\" has a positive sentiment.\n",
    "\n",
    "To simplify the task, we consider sentiment binary: labels of `1` indicate a sentence has a positive sentiment, and labels of `0` indicate that the sentence has a negative sentiment.\n",
    "\n",
    "### Dataset\n",
    "\n",
    "The dataset is split across three files, representing three different sources -- Amazon, Yelp and IMDB. Your task is to build a sentiment analysis model using both the Yelp and IMDB data as your training-set, and test the performance of your model on the Amazon data.\n",
    "\n",
    "Each file can be found in the `input` directory, and contains 1000 rows of data. Each row contains a sentence, a `tab` character and then a label -- `0` or `1`. \n",
    "\n",
    "**Notes**\n",
    "- Feel free to use existing machine learning libraries as components in you solution!\n",
    "- Suggested libraries: `sklearn` (for machine learning), `pandas` (for loading/processing data), `spacy` (for text processing).\n",
    "- As mentioned, you are not expected to have previous experience with this exact task. You are free to refer to external tutorials/resources to assist you. However, you will be asked to justfify the choices you have made -- so make you understand the approach you have taken."
   ]
  },
  {
   "cell_type": "code",
   "execution_count": 1,
   "metadata": {
    "_cell_guid": "b1076dfc-b9ad-4769-8c92-a6c4dae69d19",
    "_uuid": "8f2839f25d086af736a60e9eeb907d3b93b6e0e5"
   },
   "outputs": [
    {
     "name": "stdout",
     "output_type": "stream",
     "text": [
      "['amazon_cells_labelled.txt', 'yelp_labelled.txt', 'imdb_labelled.txt']\n"
     ]
    }
   ],
   "source": [
    "import os\n",
    "print(os.listdir(\"./input\"))"
   ]
  },
  {
   "cell_type": "code",
   "execution_count": 2,
   "metadata": {
    "_cell_guid": "79c7e3d0-c299-4dcb-8224-4455121ee9b0",
    "_uuid": "d629ff2d2480ee46fbb7e2d37f6b5fab8052498a",
    "scrolled": true
   },
   "outputs": [
    {
     "name": "stdout",
     "output_type": "stream",
     "text": [
      "So there is no way for me to plug it in here in the US unless I go by a converter.\t0\r\n",
      "Good case, Excellent value.\t1\r\n",
      "Great for the jawbone.\t1\r\n",
      "Tied to charger for conversations lasting more than 45 minutes.MAJOR PROBLEMS!!\t0\r\n",
      "The mic is great.\t1\r\n",
      "I have to jiggle the plug to get it to line up right to get decent volume.\t0\r\n",
      "If you have several dozen or several hundred contacts, then imagine the fun of sending each of them one by one.\t0\r\n",
      "If you are Razr owner...you must have this!\t1\r\n",
      "Needless to say, I wasted my money.\t0\r\n",
      "What a waste of money and time!.\t0\r\n"
     ]
    }
   ],
   "source": [
    "!head \"./input/amazon_cells_labelled.txt\""
   ]
  },
  {
   "cell_type": "markdown",
   "metadata": {
    "_cell_guid": "387106cd-e89a-462f-b204-a91a73d12137",
    "_uuid": "cbd1a4b1d16ce7db6def7b3b393b48618d7e4777"
   },
   "source": [
    "# Tasks\n",
    "### 1. Read and concatenate data into test and train sets.\n",
    "### 2. Prepare the data for input into your model."
   ]
  },
  {
   "cell_type": "markdown",
   "metadata": {},
   "source": [
    "**install libraries**\n",
    "\n",
    "```shell\n",
    "!pip install spacy\n",
    "!python -m spacy download en_core_web_sm\n",
    "!pip install nltk\n",
    "!pip install sklearn\n",
    "```"
   ]
  },
  {
   "cell_type": "code",
   "execution_count": 3,
   "metadata": {},
   "outputs": [],
   "source": [
    "import spacy\n",
    "from spacy.tokens.token import Token\n",
    "from nltk import ngrams\n",
    "from dataclasses import dataclass\n",
    "from typing import List\n",
    "from sklearn.linear_model import LogisticRegression"
   ]
  },
  {
   "cell_type": "code",
   "execution_count": 4,
   "metadata": {},
   "outputs": [],
   "source": [
    "nlp = spacy.load(\"en_core_web_sm\")"
   ]
  },
  {
   "cell_type": "code",
   "execution_count": 5,
   "metadata": {},
   "outputs": [],
   "source": [
    "@dataclass\n",
    "class Sentence:\n",
    "    sentence: str\n",
    "    label: int\n",
    "    tokens: List[Token]"
   ]
  },
  {
   "cell_type": "code",
   "execution_count": 6,
   "metadata": {},
   "outputs": [],
   "source": [
    "def parse_line(line: str):\n",
    "    sentence, label = line.strip().split('\\t')\n",
    "    label = int(label)\n",
    "    tokens = nlp(sentence)\n",
    "    return Sentence(sentence, label, tokens)\n",
    "\n",
    "\n",
    "def load_sentiment_data(*files: str):\n",
    "    data = (\n",
    "        parse_line(line)\n",
    "        for f in files \n",
    "        for line in open(f, 'r')\n",
    "    )\n",
    "    return data"
   ]
  },
  {
   "cell_type": "markdown",
   "metadata": {},
   "source": [
    "**Load train set and test set, for only 1000 records in each file, just load to memory**"
   ]
  },
  {
   "cell_type": "code",
   "execution_count": 7,
   "metadata": {},
   "outputs": [],
   "source": [
    "train_set = list(load_sentiment_data('input/imdb_labelled.txt', 'input/yelp_labelled.txt'))\n",
    "test_set = list(load_sentiment_data('input/amazon_cells_labelled.txt'))"
   ]
  },
  {
   "cell_type": "markdown",
   "metadata": {},
   "source": [
    "*To get all tag of spacy*\n",
    "\n",
    "for label in nlp.get_pipe(\"tagger\").labels:\n",
    "    print(label, \" -- \", spacy.explain(label))\n",
    "    \n",
    "*To get all dep of spacy*\n",
    "\n",
    "for label in nlp.get_pipe(\"parser\").labels:\n",
    "    print(label, \" -- \", spacy.explain(label))"
   ]
  },
  {
   "cell_type": "markdown",
   "metadata": {
    "_cell_guid": "a8240a39-7002-435b-ba45-ac859d209f7f",
    "_uuid": "69c6d7ea240a191abfaaf00574f09521944387d7"
   },
   "source": [
    "#### 2a: Find the ten most frequent words in the training set."
   ]
  },
  {
   "cell_type": "markdown",
   "metadata": {},
   "source": [
    "*Wordcount by tag and dep, and then show top 20 for each of the dep/tag*"
   ]
  },
  {
   "cell_type": "code",
   "execution_count": 8,
   "metadata": {},
   "outputs": [],
   "source": [
    "def wordcount_by_tag_dep(dataset):\n",
    "    tag_wordcount = {}\n",
    "    dep_wordcount = {}\n",
    "\n",
    "    for row in dataset:\n",
    "        for token in row.tokens:\n",
    "            dep = token.dep_\n",
    "            tag = token.tag_\n",
    "            lemma = token.lemma_\n",
    "            tag_wordcount.setdefault(tag, {})[lemma] = tag_wordcount.get(tag, {}).get(lemma, 0) + 1\n",
    "            dep_wordcount.setdefault(dep, {})[lemma] = tag_wordcount.get(dep, {}).get(lemma, 0) + 1\n",
    "    \n",
    "    return tag_wordcount, dep_wordcount"
   ]
  },
  {
   "cell_type": "code",
   "execution_count": 9,
   "metadata": {},
   "outputs": [],
   "source": [
    "tag_wordcount, dep_wordcount = wordcount_by_tag_dep(train_set)"
   ]
  },
  {
   "cell_type": "markdown",
   "metadata": {},
   "source": [
    "#**Print wordcount for each of the tag and dep**\n",
    "\n",
    "\n",
    "print('Top frequent words for each tag_:')\n",
    "for tag, counts in tag_wordcount.items():\n",
    "    print(tag, '>>', sorted(counts.items(), key=lambda x: -x[1])[:40])\n",
    "\n",
    "print('Top frequent words for each dep_:')\n",
    "for dep, counts in dep_wordcount.items():\n",
    "    print(dep, '>>', sorted(counts.items(), key=lambda x: -x[1])[:40])\n"
   ]
  },
  {
   "cell_type": "code",
   "execution_count": 10,
   "metadata": {},
   "outputs": [],
   "source": [
    "# reiew the wordcount for each of the tegs, and got those tags and white list\n",
    "\n",
    "# better to review the partial dep as well when there is spare time\n",
    "\n",
    "all_tags = {\n",
    "    'RB', 'JJ', 'RBR', 'JJS', 'WRB', 'RBS', 'JJR', 'UH', 'VBD', 'NN', 'VBG', 'DT', 'VBN', 'CC', 'IN', 'VB', 'VBZ', 'WDT', 'VBP'\n",
    "}\n",
    "all_deps = {'advmod', 'amod', 'acomp', 'intj', 'preconj', 'predet', 'oprd'}\n",
    "\n",
    "stopwords = {'-', 'be', 'the', 'and', 'of', 'a', 'have', 'in', 'this', 'for', 'that', 'do', 'with', 'to', 'as', 'on', 'at', 'by', 'from', 'about', 'an', 'here', 'movie', 'film'}"
   ]
  },
  {
   "cell_type": "markdown",
   "metadata": {},
   "source": [
    "### 3. Train your model and justify your choices."
   ]
  },
  {
   "cell_type": "markdown",
   "metadata": {},
   "source": [
    "#### 3a: Generate features, use single word and n-gram in the above `all_tags`/`all_deps` list and `stopwords`"
   ]
  },
  {
   "cell_type": "code",
   "execution_count": 11,
   "metadata": {},
   "outputs": [],
   "source": [
    "n_gram = 5"
   ]
  },
  {
   "cell_type": "code",
   "execution_count": 12,
   "metadata": {},
   "outputs": [],
   "source": [
    "def as_feature(tokens: List[Token]):\n",
    "    feature = []\n",
    "    for tok in tokens:\n",
    "        if (tok.lemma_ not in stopwords and (tok.tag_ in all_tags or tok.dep_ in all_deps)):\n",
    "            feature.append(tok.lemma_)\n",
    "    if feature:\n",
    "        return ';;'.join(sorted(feature))\n",
    "    return None\n",
    "\n",
    "\n",
    "def generate_features(tokens: List[Token]):\n",
    "    tokens = list(filter(lambda x: x.dep_ != 'punct', tokens))\n",
    "    features = []\n",
    "    for i in range(1, n_gram):\n",
    "        for words in ngrams(tokens, i):\n",
    "            feature = as_feature(words)\n",
    "            if feature is not None:\n",
    "                features.append(feature)\n",
    "    return features"
   ]
  },
  {
   "cell_type": "code",
   "execution_count": 13,
   "metadata": {},
   "outputs": [],
   "source": [
    "def generate_feature_dataset(dataset):\n",
    "    feature_vector = {}\n",
    "    for row in dataset:\n",
    "        for feature in generate_features(row.tokens):\n",
    "            feature_vector[feature] = feature_vector.get(feature, 0) + 1\n",
    "    return feature_vector"
   ]
  },
  {
   "cell_type": "markdown",
   "metadata": {},
   "source": [
    "##### a view of the features"
   ]
  },
  {
   "cell_type": "code",
   "execution_count": 14,
   "metadata": {},
   "outputs": [],
   "source": [
    "feature_dataset = generate_feature_dataset(train_set)\n",
    "feature_dataset_desc = sorted(feature_dataset.items(), key=lambda x: -x[1])"
   ]
  },
  {
   "cell_type": "code",
   "execution_count": 15,
   "metadata": {},
   "outputs": [
    {
     "name": "stdout",
     "output_type": "stream",
     "text": [
      "Top 20: [(\"n't\", 677), ('good', 606), ('not', 551), ('bad', 431), ('like', 420), ('but', 412), ('all', 409), ('place', 406), ('food', 364), ('go', 357), ('so', 353), ('make', 338), ('great', 337), ('see', 312), ('just', 308), ('time', 304), ('very', 296), ('think', 292), ('love', 269), ('well', 262)] \n",
      "Mid: [('genius', 5), ('genius;;simply', 5), ('not;;play', 5), ('another;;just', 5), ('find;;mostly', 5), ('total;;waste', 5), ('most;;sabotage', 5), ('extremely;;uninteresting', 5), (\"hold;;n't\", 5), ('attention;;because', 5), ('adrift;;emotionally', 5), ('amateurish;;lousy', 5), ('first;;watch', 5), ('completely;;strike', 5), ('just;;too', 5), ('but;;speak', 5), ('theme', 5), ('director;;master', 5), ('care;;deeply', 5), ('patriotism;;very', 5), ('enjoy;;watch', 5), ('cinematography;;if', 5), ('funny;;so', 5), ('cheap;;trash', 5), ('angry', 5), ('angry;;feel', 5), ('craft;;superbly', 5), ('matter', 5), ('good;;mexican', 5), ('highly;;rank', 5), ('psychological', 5), ('incredible;;simply', 5), ('journey;;through', 5), ('completely;;transcend', 5), ('flick;;indie', 5), ('continually;;subvert', 5), ('experience;;intense', 5), ('gripping', 5), ('if;;indeed', 5), ('real;;use', 5)] \n",
      "Last 20: [('money;;some;;time', 1), ('else;;place;;some;;time', 1), ('lady;;table', 1), ('find;;next', 1), ('find;;green;;live', 1), ('caterpillar;;salad', 1), ('food;;presentation', 1), (\"how;;n't;;tell\", 1), ('disappointed;;how;;tell', 1), ('flavor;;food', 1), ('not;;overall', 1), ('experience;;underwhelming;;whole', 1), ('think;;underwhelming', 1), ('just;;think', 1), ('pour;;there', 1), ('enough;;life', 1), ('life;;pour;;there', 1), ('pour;;salt;;there', 1), ('salt;;wound', 1), ('draw;;time', 1)]\n"
     ]
    }
   ],
   "source": [
    "print('Top 20:', feature_dataset_desc[:20], '\\nMid:', feature_dataset_desc[2200:2240], '\\nLast 20:', feature_dataset_desc[-20:])"
   ]
  },
  {
   "cell_type": "code",
   "execution_count": 16,
   "metadata": {},
   "outputs": [
    {
     "name": "stdout",
     "output_type": "stream",
     "text": [
      "Feature dimension with n-gram (n is [1, 4]): 15753\n"
     ]
    }
   ],
   "source": [
    "print(f'Feature dimension with n-gram (n is [1, {n_gram-1}]):', len(feature_dataset))"
   ]
  },
  {
   "cell_type": "markdown",
   "metadata": {},
   "source": [
    "##### Generate n-dimension traning vector"
   ]
  },
  {
   "cell_type": "code",
   "execution_count": 17,
   "metadata": {},
   "outputs": [],
   "source": [
    "def fillin_features(num_features, tokens: List[Token], _feature2index):\n",
    "    row_array = [0 for _ in range(num_features)]\n",
    "    for feature in generate_features(tokens):\n",
    "        if feature in _feature2index:\n",
    "            row_array[_feature2index[feature]] = 1\n",
    "    return row_array"
   ]
  },
  {
   "cell_type": "code",
   "execution_count": 18,
   "metadata": {},
   "outputs": [],
   "source": [
    "def generate_feature2index(feature_dataset):\n",
    "    num_features = len(feature_dataset)\n",
    "    feature2index = dict(zip(feature_dataset.keys(), range(num_features)))\n",
    "    \n",
    "    return feature2index"
   ]
  },
  {
   "cell_type": "code",
   "execution_count": 19,
   "metadata": {},
   "outputs": [],
   "source": [
    "def train_model(dataset, _feature2index):\n",
    "    num_features = len(_feature2index)\n",
    "    X_train = [\n",
    "        fillin_features(num_features, row.tokens, _feature2index)\n",
    "        for row in dataset\n",
    "    ]\n",
    "    y_train = [row.label for row in dataset]\n",
    "    \n",
    "    clf_model = LogisticRegression(solver='lbfgs').fit(X_train, y_train)\n",
    "    print('Train set accuracy:', clf_model.score(X_train, y_train))\n",
    "    \n",
    "    return clf_model"
   ]
  },
  {
   "cell_type": "code",
   "execution_count": 20,
   "metadata": {},
   "outputs": [],
   "source": [
    "feature2index = generate_feature2index(feature_dataset)"
   ]
  },
  {
   "cell_type": "code",
   "execution_count": 21,
   "metadata": {},
   "outputs": [
    {
     "name": "stdout",
     "output_type": "stream",
     "text": [
      "Train set accuracy: 0.9915\n"
     ]
    }
   ],
   "source": [
    "clf_model = train_model(train_set, feature2index)"
   ]
  },
  {
   "cell_type": "markdown",
   "metadata": {
    "_cell_guid": "1a5840b2-c84c-42f6-9fc9-4fed64e48298",
    "_uuid": "f4eeecd64b54cc05098affe6cca4c40204af8ecf"
   },
   "source": [
    "### 4. Evaluate your model using metric(s) you see fit and justify your choices."
   ]
  },
  {
   "cell_type": "code",
   "execution_count": 22,
   "metadata": {},
   "outputs": [],
   "source": [
    "def evaluate_model(model, dataset, _feature2index):\n",
    "    num_features = len(_feature2index)\n",
    "    X_test = [\n",
    "        fillin_features(num_features, row.tokens, _feature2index)\n",
    "        for row in dataset\n",
    "    ]\n",
    "    y_test = [row.label for row in dataset]\n",
    "    \n",
    "    print(model.score(X_test, y_test))"
   ]
  },
  {
   "cell_type": "code",
   "execution_count": 23,
   "metadata": {},
   "outputs": [
    {
     "name": "stdout",
     "output_type": "stream",
     "text": [
      "0.768\n"
     ]
    }
   ],
   "source": [
    "evaluate_model(clf_model, test_set, feature2index)"
   ]
  },
  {
   "cell_type": "markdown",
   "metadata": {},
   "source": [
    "### 5. Try to improve"
   ]
  },
  {
   "cell_type": "markdown",
   "metadata": {},
   "source": [
    "The above train set is more about file/move, it might be a skewed dataset. Try to mix IMDB, Yelp and Amazon data and then split the entire dataset into 2/3 and 1/3 as train and test set."
   ]
  },
  {
   "cell_type": "code",
   "execution_count": 24,
   "metadata": {},
   "outputs": [],
   "source": [
    "from random import shuffle"
   ]
  },
  {
   "cell_type": "code",
   "execution_count": 25,
   "metadata": {},
   "outputs": [],
   "source": [
    "all_dataset = train_set + test_set"
   ]
  },
  {
   "cell_type": "code",
   "execution_count": 26,
   "metadata": {},
   "outputs": [],
   "source": [
    "shuffle(all_dataset)"
   ]
  },
  {
   "cell_type": "code",
   "execution_count": 27,
   "metadata": {},
   "outputs": [],
   "source": [
    "mix_train_set = all_dataset[:2000]\n",
    "mix_test_set = all_dataset[2000:]"
   ]
  },
  {
   "cell_type": "code",
   "execution_count": 28,
   "metadata": {},
   "outputs": [],
   "source": [
    "mix_tag_wordcount, mix_dep_wordcount = wordcount_by_tag_dep(mix_train_set)"
   ]
  },
  {
   "cell_type": "code",
   "execution_count": 29,
   "metadata": {},
   "outputs": [],
   "source": [
    "mix_feature_dataset = generate_feature_dataset(mix_train_set)\n",
    "mix_feature2index = generate_feature2index(mix_feature_dataset)"
   ]
  },
  {
   "cell_type": "code",
   "execution_count": 30,
   "metadata": {},
   "outputs": [
    {
     "name": "stdout",
     "output_type": "stream",
     "text": [
      "Train set accuracy: 0.988\n"
     ]
    }
   ],
   "source": [
    "mix_clf_model = train_model(mix_train_set, mix_feature2index)"
   ]
  },
  {
   "cell_type": "code",
   "execution_count": 31,
   "metadata": {},
   "outputs": [
    {
     "name": "stdout",
     "output_type": "stream",
     "text": [
      "0.814\n"
     ]
    }
   ],
   "source": [
    "evaluate_model(mix_clf_model, mix_test_set, mix_feature2index)"
   ]
  },
  {
   "cell_type": "code",
   "execution_count": null,
   "metadata": {},
   "outputs": [],
   "source": []
  }
 ],
 "metadata": {
  "kernelspec": {
   "display_name": "Python 3 (ipykernel)",
   "language": "python",
   "name": "python3"
  },
  "language_info": {
   "codemirror_mode": {
    "name": "ipython",
    "version": 3
   },
   "file_extension": ".py",
   "mimetype": "text/x-python",
   "name": "python",
   "nbconvert_exporter": "python",
   "pygments_lexer": "ipython3",
   "version": "3.8.7"
  }
 },
 "nbformat": 4,
 "nbformat_minor": 4
}
